{
 "cells": [
  {
   "cell_type": "code",
   "execution_count": 36,
   "metadata": {},
   "outputs": [],
   "source": [
    "import numpy as np\n",
    "import pandas as pd\n",
    "import cv2\n",
    "import os\n",
    "import rasterio\n",
    "import tensorflow \n",
    "from keras.models import Model\n",
    "from keras.layers import Input, Conv2D, MaxPooling2D, Dropout, UpSampling2D, Concatenate, Activation\n",
    "from tensorflow.keras.optimizers import Adam \n",
    "from keras.losses import BinaryCrossentropy\n",
    "from keras.metrics import Accuracy, Precision, Recall, MeanIoU, binary_accuracy\n",
    "from keras.utils.vis_utils import plot_model\n",
    "import matplotlib.pyplot as plt\n",
    "%matplotlib inline"
   ]
  },
  {
   "attachments": {},
   "cell_type": "markdown",
   "metadata": {},
   "source": [
    "# U-Net"
   ]
  },
  {
   "cell_type": "code",
   "execution_count": 9,
   "metadata": {},
   "outputs": [],
   "source": [
    "\n",
    "def unet(input_size=(1024,1024,3)):\n",
    "    inputs = Input(input_size)\n",
    "    \n",
    "    # Contracting Path\n",
    "    conv1 = Conv2D(64, 3, activation='relu', padding='same', kernel_initializer='he_normal')(inputs)\n",
    "    conv1 = Conv2D(64, 3, activation='relu', padding='same', kernel_initializer='he_normal')(conv1)\n",
    "    pool1 = MaxPooling2D(pool_size=(2, 2))(conv1)\n",
    "    conv2 = Conv2D(128, 3, activation='relu', padding='same', kernel_initializer='he_normal')(pool1)\n",
    "    conv2 = Conv2D(128, 3, activation='relu', padding='same', kernel_initializer='he_normal')(conv2)\n",
    "    pool2 = MaxPooling2D(pool_size=(2, 2))(conv2)\n",
    "    conv3 = Conv2D(256, 3, activation='relu', padding='same', kernel_initializer='he_normal')(pool2)\n",
    "    conv3 = Conv2D(256, 3, activation='relu', padding='same', kernel_initializer='he_normal')(conv3)\n",
    "    pool3 = MaxPooling2D(pool_size=(2, 2))(conv3)\n",
    "    conv4 = Conv2D(512, 3, activation='relu', padding='same', kernel_initializer='he_normal')(pool3)\n",
    "    conv4 = Conv2D(512, 3, activation='relu', padding='same', kernel_initializer='he_normal')(conv4)\n",
    "    drop4 = Dropout(0.5)(conv4)\n",
    "    pool4 = MaxPooling2D(pool_size=(2, 2))(drop4)\n",
    "\n",
    "    # Bottom\n",
    "    conv5 = Conv2D(1024, 3, activation='relu', padding='same', kernel_initializer='he_normal')(pool4)\n",
    "    conv5 = Conv2D(1024, 3, activation='relu', padding='same', kernel_initializer='he_normal')(conv5)\n",
    "    drop5 = Dropout(0.5)(conv5)\n",
    "\n",
    "    \n",
    "    # Expansive Path\n",
    "    up6 = UpSampling2D(size=(2, 2))(drop5)\n",
    "    up6 = Conv2D(512, 2, activation='relu', padding='same', kernel_initializer='he_normal')(up6)\n",
    "    merge6 = Concatenate(axis=3)([drop4, up6])\n",
    "    conv6 = Conv2D(512, 3, activation='relu', padding='same', kernel_initializer='he_normal')(merge6)\n",
    "    conv6 = Conv2D(512, 3, activation='relu', padding='same', kernel_initializer='he_normal')(conv6)\n",
    "\n",
    "    up7 = UpSampling2D(size=(2, 2))(conv6)\n",
    "    up7 = Conv2D(256, 2, activation='relu', padding='same', kernel_initializer='he_normal')(up7)\n",
    "    merge7 = Concatenate(axis=3)([conv3, up7])\n",
    "    conv7 = Conv2D(256, 3, activation='relu', padding='same', kernel_initializer='he_normal')(merge7)\n",
    "    conv7 = Conv2D(256, 3, activation='relu', padding='same', kernel_initializer='he_normal')(conv7)\n",
    "\n",
    "    up8 = UpSampling2D(size=(2, 2))(conv7)\n",
    "    up8 = Conv2D(128, 2, activation='relu', padding='same', kernel_initializer='he_normal')(up8)\n",
    "    merge8 = Concatenate(axis=3)([conv2, up8])\n",
    "    conv8 = Conv2D(128, 3, activation='relu', padding='same', kernel_initializer='he_normal')(merge8)\n",
    "    conv8 = Conv2D(128, 3, activation='relu', padding='same', kernel_initializer='he_normal')(conv8)\n",
    "\n",
    "    up9 = UpSampling2D(size=(2, 2))(conv8)\n",
    "    up9 = Conv2D(64, 2, activation='relu', padding='same', kernel_initializer='he_normal')(up9)\n",
    "    merge9 = Concatenate(axis=3)([conv1, up9])\n",
    "    conv9 = Conv2D(64, 3, activation='relu', padding='same', kernel_initializer='he_normal')(merge9)\n",
    "    conv9 = Conv2D(64, 3, activation='relu', padding='same', kernel_initializer='he_normal')(conv9)\n",
    "    conv9 = Conv2D(2, 3, activation='relu', padding='same', kernel_initializer='he_normal')(conv9)\n",
    "    outputs = Conv2D(1, 1, activation='sigmoid')(conv9)\n",
    "\n",
    "    model = Model(inputs=inputs, outputs=outputs)\n",
    "\n",
    "    model.compile(optimizer=Adam(lr=1e-4), \n",
    "                  loss=BinaryCrossentropy(from_logits=True), \n",
    "                  metrics=[Accuracy(), binary_accuracy, \n",
    "                           MeanIoU(num_classes=2),\n",
    "                           Precision(name='precision'), \n",
    "                           Recall(name='recall'),\n",
    "                           MeanIoU(num_classes=2, name='miou')])\n",
    "\n",
    "    return model\n",
    "\n"
   ]
  },
  {
   "cell_type": "code",
   "execution_count": 10,
   "metadata": {},
   "outputs": [
    {
     "name": "stdout",
     "output_type": "stream",
     "text": [
      "Model: \"model\"\n",
      "__________________________________________________________________________________________________\n",
      " Layer (type)                   Output Shape         Param #     Connected to                     \n",
      "==================================================================================================\n",
      " input_1 (InputLayer)           [(None, 1024, 1024,  0           []                               \n",
      "                                 3)]                                                              \n",
      "                                                                                                  \n",
      " conv2d (Conv2D)                (None, 1024, 1024,   1792        ['input_1[0][0]']                \n",
      "                                64)                                                               \n",
      "                                                                                                  \n",
      " conv2d_1 (Conv2D)              (None, 1024, 1024,   36928       ['conv2d[0][0]']                 \n",
      "                                64)                                                               \n",
      "                                                                                                  \n",
      " max_pooling2d (MaxPooling2D)   (None, 512, 512, 64  0           ['conv2d_1[0][0]']               \n",
      "                                )                                                                 \n",
      "                                                                                                  \n",
      " conv2d_2 (Conv2D)              (None, 512, 512, 12  73856       ['max_pooling2d[0][0]']          \n",
      "                                8)                                                                \n",
      "                                                                                                  \n",
      " conv2d_3 (Conv2D)              (None, 512, 512, 12  147584      ['conv2d_2[0][0]']               \n",
      "                                8)                                                                \n",
      "                                                                                                  \n",
      " max_pooling2d_1 (MaxPooling2D)  (None, 256, 256, 12  0          ['conv2d_3[0][0]']               \n",
      "                                8)                                                                \n",
      "                                                                                                  \n",
      " conv2d_4 (Conv2D)              (None, 256, 256, 25  295168      ['max_pooling2d_1[0][0]']        \n",
      "                                6)                                                                \n",
      "                                                                                                  \n",
      " conv2d_5 (Conv2D)              (None, 256, 256, 25  590080      ['conv2d_4[0][0]']               \n",
      "                                6)                                                                \n",
      "                                                                                                  \n",
      " max_pooling2d_2 (MaxPooling2D)  (None, 128, 128, 25  0          ['conv2d_5[0][0]']               \n",
      "                                6)                                                                \n",
      "                                                                                                  \n",
      " conv2d_6 (Conv2D)              (None, 128, 128, 51  1180160     ['max_pooling2d_2[0][0]']        \n",
      "                                2)                                                                \n",
      "                                                                                                  \n",
      " conv2d_7 (Conv2D)              (None, 128, 128, 51  2359808     ['conv2d_6[0][0]']               \n",
      "                                2)                                                                \n",
      "                                                                                                  \n",
      " dropout (Dropout)              (None, 128, 128, 51  0           ['conv2d_7[0][0]']               \n",
      "                                2)                                                                \n",
      "                                                                                                  \n",
      " max_pooling2d_3 (MaxPooling2D)  (None, 64, 64, 512)  0          ['dropout[0][0]']                \n",
      "                                                                                                  \n",
      " conv2d_8 (Conv2D)              (None, 64, 64, 1024  4719616     ['max_pooling2d_3[0][0]']        \n",
      "                                )                                                                 \n",
      "                                                                                                  \n",
      " conv2d_9 (Conv2D)              (None, 64, 64, 1024  9438208     ['conv2d_8[0][0]']               \n",
      "                                )                                                                 \n",
      "                                                                                                  \n",
      " dropout_1 (Dropout)            (None, 64, 64, 1024  0           ['conv2d_9[0][0]']               \n",
      "                                )                                                                 \n",
      "                                                                                                  \n",
      " up_sampling2d (UpSampling2D)   (None, 128, 128, 10  0           ['dropout_1[0][0]']              \n",
      "                                24)                                                               \n",
      "                                                                                                  \n",
      " conv2d_10 (Conv2D)             (None, 128, 128, 51  2097664     ['up_sampling2d[0][0]']          \n",
      "                                2)                                                                \n",
      "                                                                                                  \n",
      " concatenate (Concatenate)      (None, 128, 128, 10  0           ['dropout[0][0]',                \n",
      "                                24)                               'conv2d_10[0][0]']              \n",
      "                                                                                                  \n",
      " conv2d_11 (Conv2D)             (None, 128, 128, 51  4719104     ['concatenate[0][0]']            \n",
      "                                2)                                                                \n",
      "                                                                                                  \n",
      " conv2d_12 (Conv2D)             (None, 128, 128, 51  2359808     ['conv2d_11[0][0]']              \n",
      "                                2)                                                                \n",
      "                                                                                                  \n",
      " up_sampling2d_1 (UpSampling2D)  (None, 256, 256, 51  0          ['conv2d_12[0][0]']              \n",
      "                                2)                                                                \n",
      "                                                                                                  \n",
      " conv2d_13 (Conv2D)             (None, 256, 256, 25  524544      ['up_sampling2d_1[0][0]']        \n",
      "                                6)                                                                \n",
      "                                                                                                  \n",
      " concatenate_1 (Concatenate)    (None, 256, 256, 51  0           ['conv2d_5[0][0]',               \n",
      "                                2)                                'conv2d_13[0][0]']              \n",
      "                                                                                                  \n",
      " conv2d_14 (Conv2D)             (None, 256, 256, 25  1179904     ['concatenate_1[0][0]']          \n",
      "                                6)                                                                \n",
      "                                                                                                  \n",
      " conv2d_15 (Conv2D)             (None, 256, 256, 25  590080      ['conv2d_14[0][0]']              \n",
      "                                6)                                                                \n",
      "                                                                                                  \n",
      " up_sampling2d_2 (UpSampling2D)  (None, 512, 512, 25  0          ['conv2d_15[0][0]']              \n",
      "                                6)                                                                \n",
      "                                                                                                  \n",
      " conv2d_16 (Conv2D)             (None, 512, 512, 12  131200      ['up_sampling2d_2[0][0]']        \n",
      "                                8)                                                                \n",
      "                                                                                                  \n",
      " concatenate_2 (Concatenate)    (None, 512, 512, 25  0           ['conv2d_3[0][0]',               \n",
      "                                6)                                'conv2d_16[0][0]']              \n",
      "                                                                                                  \n",
      " conv2d_17 (Conv2D)             (None, 512, 512, 12  295040      ['concatenate_2[0][0]']          \n",
      "                                8)                                                                \n",
      "                                                                                                  \n",
      " conv2d_18 (Conv2D)             (None, 512, 512, 12  147584      ['conv2d_17[0][0]']              \n",
      "                                8)                                                                \n",
      "                                                                                                  \n",
      " up_sampling2d_3 (UpSampling2D)  (None, 1024, 1024,   0          ['conv2d_18[0][0]']              \n",
      "                                128)                                                              \n",
      "                                                                                                  \n",
      " conv2d_19 (Conv2D)             (None, 1024, 1024,   32832       ['up_sampling2d_3[0][0]']        \n",
      "                                64)                                                               \n",
      "                                                                                                  \n",
      " concatenate_3 (Concatenate)    (None, 1024, 1024,   0           ['conv2d_1[0][0]',               \n",
      "                                128)                              'conv2d_19[0][0]']              \n",
      "                                                                                                  \n",
      " conv2d_20 (Conv2D)             (None, 1024, 1024,   73792       ['concatenate_3[0][0]']          \n",
      "                                64)                                                               \n",
      "                                                                                                  \n",
      " conv2d_21 (Conv2D)             (None, 1024, 1024,   36928       ['conv2d_20[0][0]']              \n",
      "                                64)                                                               \n",
      "                                                                                                  \n",
      " conv2d_22 (Conv2D)             (None, 1024, 1024,   1154        ['conv2d_21[0][0]']              \n",
      "                                2)                                                                \n",
      "                                                                                                  \n",
      " conv2d_23 (Conv2D)             (None, 1024, 1024,   3           ['conv2d_22[0][0]']              \n",
      "                                1)                                                                \n",
      "                                                                                                  \n",
      "==================================================================================================\n",
      "Total params: 31,032,837\n",
      "Trainable params: 31,032,837\n",
      "Non-trainable params: 0\n",
      "__________________________________________________________________________________________________\n"
     ]
    },
    {
     "name": "stderr",
     "output_type": "stream",
     "text": [
      "c:\\Users\\Елена\\AppData\\Local\\Programs\\Python\\Python310\\lib\\site-packages\\keras\\optimizer_v2\\adam.py:105: UserWarning: The `lr` argument is deprecated, use `learning_rate` instead.\n",
      "  super(Adam, self).__init__(name, **kwargs)\n"
     ]
    }
   ],
   "source": [
    "model = unet()\n",
    "model.summary()"
   ]
  },
  {
   "attachments": {},
   "cell_type": "markdown",
   "metadata": {},
   "source": [
    "# Data import"
   ]
  },
  {
   "cell_type": "code",
   "execution_count": 50,
   "metadata": {},
   "outputs": [],
   "source": [
    "def im_import(path_to_images, path_to_labels):\n",
    "        X = [] # images\n",
    "        y = [] # labels \n",
    "        for image_name in os.listdir(path_to_images):\n",
    "            # Importing the data \n",
    "            img = cv2.imread(path_to_images + image_name)\n",
    "            img = cv2.cvtColor(img, cv2.COLOR_BGR2RGB)\n",
    "            X.append(img/255)\n",
    "            lbl = rasterio.open(path_to_labels + image_name + 'f')\n",
    "            #lbl = cv2.cvtColor(lbl, cv2.COLOR_BGR2RGB)\n",
    "            y.append((lbl.read(1) > 0.5).astype(int))\n",
    "    \n",
    "        X = np.array(X)\n",
    "        y = np.array(y)\n",
    "        return X, y"
   ]
  },
  {
   "cell_type": "code",
   "execution_count": 51,
   "metadata": {},
   "outputs": [
    {
     "name": "stdout",
     "output_type": "stream",
     "text": [
      "train_test_data/labels/LC82300962013353LGN00_1024_2048.tiff\n",
      "train_test_data/labels/LC82300962013353LGN00_2048_1024.tiff\n",
      "train_test_data/labels/LC82300962013353LGN00_2048_2048.tiff\n"
     ]
    }
   ],
   "source": [
    "X, y = im_import('train_test_data/images/', 'train_test_data/labels/')"
   ]
  },
  {
   "cell_type": "code",
   "execution_count": 39,
   "metadata": {},
   "outputs": [],
   "source": [
    "img = rasterio.open('train_test_data/labels/LC82300962013353LGN00_1024_2048.tiff')"
   ]
  },
  {
   "cell_type": "code",
   "execution_count": 49,
   "metadata": {},
   "outputs": [
    {
     "data": {
      "text/plain": [
       "array([0, 1])"
      ]
     },
     "execution_count": 49,
     "metadata": {},
     "output_type": "execute_result"
    }
   ],
   "source": [
    "(img.read(1) > 0.5).astype(int)"
   ]
  },
  {
   "cell_type": "code",
   "execution_count": 34,
   "metadata": {},
   "outputs": [
    {
     "ename": "AttributeError",
     "evalue": "'NoneType' object has no attribute 'shape'",
     "output_type": "error",
     "traceback": [
      "\u001b[1;31m---------------------------------------------------------------------------\u001b[0m",
      "\u001b[1;31mAttributeError\u001b[0m                            Traceback (most recent call last)",
      "\u001b[1;32mc:\\Users\\Елена\\OneDrive\\Study\\potsdam\\Glacier lakes detection\\Glacier-lakes-detection-using-multi-resolution-input-channels\\baseline.ipynb Cell 9\u001b[0m in \u001b[0;36m<cell line: 1>\u001b[1;34m()\u001b[0m\n\u001b[1;32m----> <a href='vscode-notebook-cell:/c%3A/Users/%D0%95%D0%BB%D0%B5%D0%BD%D0%B0/OneDrive/Study/potsdam/Glacier%20lakes%20detection/Glacier-lakes-detection-using-multi-resolution-input-channels/baseline.ipynb#X12sZmlsZQ%3D%3D?line=0'>1</a>\u001b[0m lbl\u001b[39m.\u001b[39;49mshape\n",
      "\u001b[1;31mAttributeError\u001b[0m: 'NoneType' object has no attribute 'shape'"
     ]
    }
   ],
   "source": [
    "def normalize(array):\n",
    "    \"\"\"Normalizes numpy arrays into scale 0.0 - 1.0\"\"\"\n",
    "    array_min, array_max = array.min(), array.max()\n",
    "    return ((array - array_min)/(array_max - array_min))\n",
    "\n",
    "def show_image(path, rgb=True):\n",
    "    img = rasterio.open(path)\n",
    "    if rgb:\n",
    "        red = img.read(1)\n",
    "        green = img.read(2)\n",
    "        blue = img.read(3)\n",
    "        return np.dstack((normalize(red), normalize(green), normalize(blue)))\n",
    "    else:\n",
    "        return normalize(img.read(1))"
   ]
  },
  {
   "cell_type": "code",
   "execution_count": null,
   "metadata": {},
   "outputs": [],
   "source": [
    "def load_data(path_to_images, path_to_labels):\n",
    "    # Data loader\n",
    "    X, y = im_import(path_to_images, path_to_labels) #importing data\n",
    "    im_num = len(X) #number of images\n",
    "    X_aug = np.array([]) #this can be accelerated by pre-defining the size of the array\n",
    "    y_aug = np.array([]) #to change later\n",
    "    for i in range(im_num):\n",
    "        # Obtaining 5 new images for one original image via data augmentation\n",
    "        for j in range(5): \n",
    "            im, lbl = self.data_augmentation(X[i], y[i])\n",
    "            # If we get an image that is different for the original, appending to the new dataset\n",
    "            if not np.all([im, X[i]]):\n",
    "                X_aug = np.append(X_aug, im)\n",
    "                y_aug= np.append(y_aug, lbl)\n",
    "            else: \n",
    "                # Repeating the previous step\n",
    "                j = j - 1"
   ]
  }
 ],
 "metadata": {
  "kernelspec": {
   "display_name": "Python 3",
   "language": "python",
   "name": "python3"
  },
  "language_info": {
   "codemirror_mode": {
    "name": "ipython",
    "version": 3
   },
   "file_extension": ".py",
   "mimetype": "text/x-python",
   "name": "python",
   "nbconvert_exporter": "python",
   "pygments_lexer": "ipython3",
   "version": "3.10.6"
  },
  "orig_nbformat": 4
 },
 "nbformat": 4,
 "nbformat_minor": 2
}
