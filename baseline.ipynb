{
  "cells": [
    {
      "cell_type": "code",
      "execution_count": 1,
      "metadata": {
        "id": "5sIoQEeCt7Fs"
      },
      "outputs": [],
      "source": [
        "import numpy as np\n",
        "import pandas as pd\n",
        "import cv2\n",
        "import os\n",
        "import rasterio\n",
        "import tensorflow as tf\n",
        "from keras.models import Model\n",
        "from keras.layers import Input, Conv2D, MaxPooling2D, Dropout, UpSampling2D, Concatenate, Activation\n",
        "from tensorflow.keras.optimizers import Adam \n",
        "from keras.losses import BinaryCrossentropy\n",
        "from keras.metrics import Accuracy, Precision, Recall, MeanIoU, binary_accuracy\n",
        "from keras.utils.vis_utils import plot_model\n",
        "from sklearn.model_selection import train_test_split\n",
        "import matplotlib.pyplot as plt\n",
        "%matplotlib inline"
      ]
    },
    {
      "cell_type": "markdown",
      "metadata": {
        "id": "X-JjfpIJt7Fu"
      },
      "source": [
        "# U-Net"
      ]
    },
    {
      "cell_type": "code",
      "execution_count": 2,
      "metadata": {
        "id": "B9SAnP4Ht7Fv"
      },
      "outputs": [],
      "source": [
        "\n",
        "def unet(input_size=(1024,1024,3)):\n",
        "    inputs = Input(input_size)\n",
        "    \n",
        "    # Contracting Path\n",
        "    conv1 = Conv2D(64, 3, activation='relu', padding='same', kernel_initializer='he_normal')(inputs)\n",
        "    conv1 = Conv2D(64, 3, activation='relu', padding='same', kernel_initializer='he_normal')(conv1)\n",
        "    pool1 = MaxPooling2D(pool_size=(2, 2))(conv1)\n",
        "    conv2 = Conv2D(128, 3, activation='relu', padding='same', kernel_initializer='he_normal')(pool1)\n",
        "    conv2 = Conv2D(128, 3, activation='relu', padding='same', kernel_initializer='he_normal')(conv2)\n",
        "    pool2 = MaxPooling2D(pool_size=(2, 2))(conv2)\n",
        "    conv3 = Conv2D(256, 3, activation='relu', padding='same', kernel_initializer='he_normal')(pool2)\n",
        "    conv3 = Conv2D(256, 3, activation='relu', padding='same', kernel_initializer='he_normal')(conv3)\n",
        "    pool3 = MaxPooling2D(pool_size=(2, 2))(conv3)\n",
        "    conv4 = Conv2D(512, 3, activation='relu', padding='same', kernel_initializer='he_normal')(pool3)\n",
        "    conv4 = Conv2D(512, 3, activation='relu', padding='same', kernel_initializer='he_normal')(conv4)\n",
        "    drop4 = Dropout(0.5)(conv4)\n",
        "    pool4 = MaxPooling2D(pool_size=(2, 2))(drop4)\n",
        "\n",
        "    # Bottom\n",
        "    conv5 = Conv2D(1024, 3, activation='relu', padding='same', kernel_initializer='he_normal')(pool4)\n",
        "    conv5 = Conv2D(1024, 3, activation='relu', padding='same', kernel_initializer='he_normal')(conv5)\n",
        "    drop5 = Dropout(0.5)(conv5)\n",
        "\n",
        "    \n",
        "    # Expansive Path\n",
        "    up6 = UpSampling2D(size=(2, 2))(drop5)\n",
        "    up6 = Conv2D(512, 2, activation='relu', padding='same', kernel_initializer='he_normal')(up6)\n",
        "    merge6 = Concatenate(axis=3)([drop4, up6])\n",
        "    conv6 = Conv2D(512, 3, activation='relu', padding='same', kernel_initializer='he_normal')(merge6)\n",
        "    conv6 = Conv2D(512, 3, activation='relu', padding='same', kernel_initializer='he_normal')(conv6)\n",
        "\n",
        "    up7 = UpSampling2D(size=(2, 2))(conv6)\n",
        "    up7 = Conv2D(256, 2, activation='relu', padding='same', kernel_initializer='he_normal')(up7)\n",
        "    merge7 = Concatenate(axis=3)([conv3, up7])\n",
        "    conv7 = Conv2D(256, 3, activation='relu', padding='same', kernel_initializer='he_normal')(merge7)\n",
        "    conv7 = Conv2D(256, 3, activation='relu', padding='same', kernel_initializer='he_normal')(conv7)\n",
        "\n",
        "    up8 = UpSampling2D(size=(2, 2))(conv7)\n",
        "    up8 = Conv2D(128, 2, activation='relu', padding='same', kernel_initializer='he_normal')(up8)\n",
        "    merge8 = Concatenate(axis=3)([conv2, up8])\n",
        "    conv8 = Conv2D(128, 3, activation='relu', padding='same', kernel_initializer='he_normal')(merge8)\n",
        "    conv8 = Conv2D(128, 3, activation='relu', padding='same', kernel_initializer='he_normal')(conv8)\n",
        "\n",
        "    up9 = UpSampling2D(size=(2, 2))(conv8)\n",
        "    up9 = Conv2D(64, 2, activation='relu', padding='same', kernel_initializer='he_normal')(up9)\n",
        "    merge9 = Concatenate(axis=3)([conv1, up9])\n",
        "    conv9 = Conv2D(64, 3, activation='relu', padding='same', kernel_initializer='he_normal')(merge9)\n",
        "    conv9 = Conv2D(64, 3, activation='relu', padding='same', kernel_initializer='he_normal')(conv9)\n",
        "    conv9 = Conv2D(2, 3, activation='relu', padding='same', kernel_initializer='he_normal')(conv9)\n",
        "    outputs = Conv2D(1, 1, activation='sigmoid')(conv9)\n",
        "\n",
        "    model = Model(inputs=inputs, outputs=outputs)\n",
        "\n",
        "    model.compile(optimizer=Adam(lr=1e-4), \n",
        "                  loss=BinaryCrossentropy(from_logits=True), \n",
        "                  metrics=[MeanIoU(num_classes=2, name='miou')])\n",
        "\n",
        "    return model\n",
        "\n"
      ]
    },
    {
      "cell_type": "code",
      "execution_count": 8,
      "metadata": {
        "colab": {
          "base_uri": "https://localhost:8080/"
        },
        "id": "bkjdGvA3t7Fw",
        "outputId": "c07c9e47-cb79-4179-8370-511007051e9a"
      },
      "outputs": [
        {
          "name": "stdout",
          "output_type": "stream",
          "text": [
            "Model: \"model_1\"\n",
            "__________________________________________________________________________________________________\n",
            " Layer (type)                   Output Shape         Param #     Connected to                     \n",
            "==================================================================================================\n",
            " input_2 (InputLayer)           [(None, 1024, 1024,  0           []                               \n",
            "                                 3)]                                                              \n",
            "                                                                                                  \n",
            " conv2d_24 (Conv2D)             (None, 1024, 1024,   1792        ['input_2[0][0]']                \n",
            "                                64)                                                               \n",
            "                                                                                                  \n",
            " conv2d_25 (Conv2D)             (None, 1024, 1024,   36928       ['conv2d_24[0][0]']              \n",
            "                                64)                                                               \n",
            "                                                                                                  \n",
            " max_pooling2d_4 (MaxPooling2D)  (None, 512, 512, 64  0          ['conv2d_25[0][0]']              \n",
            "                                )                                                                 \n",
            "                                                                                                  \n",
            " conv2d_26 (Conv2D)             (None, 512, 512, 12  73856       ['max_pooling2d_4[0][0]']        \n",
            "                                8)                                                                \n",
            "                                                                                                  \n",
            " conv2d_27 (Conv2D)             (None, 512, 512, 12  147584      ['conv2d_26[0][0]']              \n",
            "                                8)                                                                \n",
            "                                                                                                  \n",
            " max_pooling2d_5 (MaxPooling2D)  (None, 256, 256, 12  0          ['conv2d_27[0][0]']              \n",
            "                                8)                                                                \n",
            "                                                                                                  \n",
            " conv2d_28 (Conv2D)             (None, 256, 256, 25  295168      ['max_pooling2d_5[0][0]']        \n",
            "                                6)                                                                \n",
            "                                                                                                  \n",
            " conv2d_29 (Conv2D)             (None, 256, 256, 25  590080      ['conv2d_28[0][0]']              \n",
            "                                6)                                                                \n",
            "                                                                                                  \n",
            " max_pooling2d_6 (MaxPooling2D)  (None, 128, 128, 25  0          ['conv2d_29[0][0]']              \n",
            "                                6)                                                                \n",
            "                                                                                                  \n",
            " conv2d_30 (Conv2D)             (None, 128, 128, 51  1180160     ['max_pooling2d_6[0][0]']        \n",
            "                                2)                                                                \n",
            "                                                                                                  \n",
            " conv2d_31 (Conv2D)             (None, 128, 128, 51  2359808     ['conv2d_30[0][0]']              \n",
            "                                2)                                                                \n",
            "                                                                                                  \n",
            " dropout_2 (Dropout)            (None, 128, 128, 51  0           ['conv2d_31[0][0]']              \n",
            "                                2)                                                                \n",
            "                                                                                                  \n",
            " max_pooling2d_7 (MaxPooling2D)  (None, 64, 64, 512)  0          ['dropout_2[0][0]']              \n",
            "                                                                                                  \n",
            " conv2d_32 (Conv2D)             (None, 64, 64, 1024  4719616     ['max_pooling2d_7[0][0]']        \n",
            "                                )                                                                 \n",
            "                                                                                                  \n",
            " conv2d_33 (Conv2D)             (None, 64, 64, 1024  9438208     ['conv2d_32[0][0]']              \n",
            "                                )                                                                 \n",
            "                                                                                                  \n",
            " dropout_3 (Dropout)            (None, 64, 64, 1024  0           ['conv2d_33[0][0]']              \n",
            "                                )                                                                 \n",
            "                                                                                                  \n",
            " up_sampling2d_4 (UpSampling2D)  (None, 128, 128, 10  0          ['dropout_3[0][0]']              \n",
            "                                24)                                                               \n",
            "                                                                                                  \n",
            " conv2d_34 (Conv2D)             (None, 128, 128, 51  2097664     ['up_sampling2d_4[0][0]']        \n",
            "                                2)                                                                \n",
            "                                                                                                  \n",
            " concatenate_4 (Concatenate)    (None, 128, 128, 10  0           ['dropout_2[0][0]',              \n",
            "                                24)                               'conv2d_34[0][0]']              \n",
            "                                                                                                  \n",
            " conv2d_35 (Conv2D)             (None, 128, 128, 51  4719104     ['concatenate_4[0][0]']          \n",
            "                                2)                                                                \n",
            "                                                                                                  \n",
            " conv2d_36 (Conv2D)             (None, 128, 128, 51  2359808     ['conv2d_35[0][0]']              \n",
            "                                2)                                                                \n",
            "                                                                                                  \n",
            " up_sampling2d_5 (UpSampling2D)  (None, 256, 256, 51  0          ['conv2d_36[0][0]']              \n",
            "                                2)                                                                \n",
            "                                                                                                  \n",
            " conv2d_37 (Conv2D)             (None, 256, 256, 25  524544      ['up_sampling2d_5[0][0]']        \n",
            "                                6)                                                                \n",
            "                                                                                                  \n",
            " concatenate_5 (Concatenate)    (None, 256, 256, 51  0           ['conv2d_29[0][0]',              \n",
            "                                2)                                'conv2d_37[0][0]']              \n",
            "                                                                                                  \n",
            " conv2d_38 (Conv2D)             (None, 256, 256, 25  1179904     ['concatenate_5[0][0]']          \n",
            "                                6)                                                                \n",
            "                                                                                                  \n",
            " conv2d_39 (Conv2D)             (None, 256, 256, 25  590080      ['conv2d_38[0][0]']              \n",
            "                                6)                                                                \n",
            "                                                                                                  \n",
            " up_sampling2d_6 (UpSampling2D)  (None, 512, 512, 25  0          ['conv2d_39[0][0]']              \n",
            "                                6)                                                                \n",
            "                                                                                                  \n",
            " conv2d_40 (Conv2D)             (None, 512, 512, 12  131200      ['up_sampling2d_6[0][0]']        \n",
            "                                8)                                                                \n",
            "                                                                                                  \n",
            " concatenate_6 (Concatenate)    (None, 512, 512, 25  0           ['conv2d_27[0][0]',              \n",
            "                                6)                                'conv2d_40[0][0]']              \n",
            "                                                                                                  \n",
            " conv2d_41 (Conv2D)             (None, 512, 512, 12  295040      ['concatenate_6[0][0]']          \n",
            "                                8)                                                                \n",
            "                                                                                                  \n",
            " conv2d_42 (Conv2D)             (None, 512, 512, 12  147584      ['conv2d_41[0][0]']              \n",
            "                                8)                                                                \n",
            "                                                                                                  \n",
            " up_sampling2d_7 (UpSampling2D)  (None, 1024, 1024,   0          ['conv2d_42[0][0]']              \n",
            "                                128)                                                              \n",
            "                                                                                                  \n",
            " conv2d_43 (Conv2D)             (None, 1024, 1024,   32832       ['up_sampling2d_7[0][0]']        \n",
            "                                64)                                                               \n",
            "                                                                                                  \n",
            " concatenate_7 (Concatenate)    (None, 1024, 1024,   0           ['conv2d_25[0][0]',              \n",
            "                                128)                              'conv2d_43[0][0]']              \n",
            "                                                                                                  \n",
            " conv2d_44 (Conv2D)             (None, 1024, 1024,   73792       ['concatenate_7[0][0]']          \n",
            "                                64)                                                               \n",
            "                                                                                                  \n",
            " conv2d_45 (Conv2D)             (None, 1024, 1024,   36928       ['conv2d_44[0][0]']              \n",
            "                                64)                                                               \n",
            "                                                                                                  \n",
            " conv2d_46 (Conv2D)             (None, 1024, 1024,   1154        ['conv2d_45[0][0]']              \n",
            "                                2)                                                                \n",
            "                                                                                                  \n",
            " conv2d_47 (Conv2D)             (None, 1024, 1024,   3           ['conv2d_46[0][0]']              \n",
            "                                1)                                                                \n",
            "                                                                                                  \n",
            "==================================================================================================\n",
            "Total params: 31,032,837\n",
            "Trainable params: 31,032,837\n",
            "Non-trainable params: 0\n",
            "__________________________________________________________________________________________________\n"
          ]
        },
        {
          "name": "stderr",
          "output_type": "stream",
          "text": [
            "c:\\Users\\Елена\\AppData\\Local\\Programs\\Python\\Python310\\lib\\site-packages\\keras\\optimizer_v2\\adam.py:105: UserWarning: The `lr` argument is deprecated, use `learning_rate` instead.\n",
            "  super(Adam, self).__init__(name, **kwargs)\n"
          ]
        }
      ],
      "source": [
        "model = unet()\n",
        "model.summary()"
      ]
    },
    {
      "cell_type": "markdown",
      "metadata": {
        "id": "zi5_UKs3t7Fx"
      },
      "source": [
        "# Data import"
      ]
    },
    {
      "cell_type": "code",
      "execution_count": 4,
      "metadata": {
        "id": "-znqE6mst7Fx"
      },
      "outputs": [],
      "source": [
        "def normalize(array):\n",
        "    \"\"\"Normalizes numpy arrays into scale 0.0 - 1.0\"\"\"\n",
        "    array_min, array_max = array.min(), array.max()\n",
        "    return ((array - array_min)/(array_max - array_min))\n",
        "\n",
        "def im_import(path_to_images, path_to_labels, path='/tmp/Glacier-lakes-detection-using-multi-resolution-input-channels-in-progress/train_test_data'):\n",
        "        X = [] # images\n",
        "        y = [] # labels \n",
        "        for image_name in os.listdir(path + path_to_images):\n",
        "            # Importing the data \n",
        "            img = cv2.imread(path + path_to_images + image_name)\n",
        "            img = cv2.cvtColor(img, cv2.COLOR_BGR2RGB)\n",
        "            X.append(normalize(img))\n",
        "            lbl = rasterio.open(path + path_to_labels + image_name + 'f')\n",
        "            #lbl = cv2.cvtColor(lbl, cv2.COLOR_BGR2RGB)\n",
        "            y.append((lbl.read(1) > 0.5).astype(int))\n",
        "    \n",
        "        X = np.array(X)\n",
        "        y = np.array(y)\n",
        "        return X, y\n",
        "\n",
        "def crop_patches(X, y, size=256):\n",
        "    X_patches = []\n",
        "    y_patches = []\n",
        "    \n",
        "    im_size = X.shape[1]\n",
        "\n",
        "    if im_size < size: \n",
        "         print(\"The image is smaller than the size of a patch\")\n",
        "\n",
        "    for i in range(len(X)):\n",
        "        for j in range(0, im_size-size+1, size):\n",
        "            for k in range(0, im_size-size+1, size):\n",
        "                patch_X = np.array(X[i])[j:j+size, k:k+size, :]\n",
        "                patch_y = np.array(y[i])[j:j+size, k:k+size]\n",
        "                if np.sum(patch_y) > 0:\n",
        "                    X_patches.append(patch_X)\n",
        "                    y_patches.append(patch_y)\n",
        "    \n",
        "    return np.array(X_patches), np.array(y_patches)"
      ]
    },
    {
      "cell_type": "code",
      "execution_count": 5,
      "metadata": {
        "id": "sujj6c4Ot7Fy"
      },
      "outputs": [
        {
          "name": "stderr",
          "output_type": "stream",
          "text": [
            "C:\\Users\\Елена\\AppData\\Local\\Temp\\ipykernel_31716\\1130345660.py:4: RuntimeWarning: invalid value encountered in true_divide\n",
            "  return ((array - array_min)/(array_max - array_min))\n"
          ]
        }
      ],
      "source": [
        "X, y = im_import('/images/', '/labels/', path='train_test_data')"
      ]
    },
    {
      "cell_type": "markdown",
      "metadata": {
        "id": "xJj2_66SyrMA"
      },
      "source": [
        "# Training and testing"
      ]
    },
    {
      "cell_type": "code",
      "execution_count": 9,
      "metadata": {
        "id": "Nz4HuzV2yQzm"
      },
      "outputs": [],
      "source": [
        "X_train, X_test, y_train, y_test = train_test_split(X, y, test_size=0.2, random_state=42)"
      ]
    },
    {
      "cell_type": "code",
      "execution_count": 10,
      "metadata": {
        "colab": {
          "base_uri": "https://localhost:8080/"
        },
        "id": "PERCDTps2TfU",
        "outputId": "e2feabcc-6399-48e5-8ba9-141ac35876bd"
      },
      "outputs": [
        {
          "name": "stdout",
          "output_type": "stream",
          "text": [
            "Epoch 1/10\n",
            "  1/230 [..............................] - ETA: 7:36:10 - loss: 1.0239 - miou: 0.5000"
          ]
        }
      ],
      "source": [
        "history = model.fit(\n",
        "   x=X_train,\n",
        "   y=y_train,\n",
        "   batch_size=1,\n",
        "   epochs=10,\n",
        "   validation_split=0.2,\n",
        ")"
      ]
    },
    {
      "cell_type": "code",
      "execution_count": null,
      "metadata": {
        "id": "kznRtB3H4uDY"
      },
      "outputs": [],
      "source": []
    }
  ],
  "metadata": {
    "accelerator": "GPU",
    "colab": {
      "provenance": []
    },
    "gpuClass": "standard",
    "kernelspec": {
      "display_name": "Python 3",
      "language": "python",
      "name": "python3"
    },
    "language_info": {
      "codemirror_mode": {
        "name": "ipython",
        "version": 3
      },
      "file_extension": ".py",
      "mimetype": "text/x-python",
      "name": "python",
      "nbconvert_exporter": "python",
      "pygments_lexer": "ipython3",
      "version": "3.10.6"
    },
    "orig_nbformat": 4
  },
  "nbformat": 4,
  "nbformat_minor": 0
}
