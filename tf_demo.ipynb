{
  "cells": [
    {
      "attachments": {},
      "cell_type": "markdown",
      "metadata": {},
      "source": [
        "# For Colab"
      ]
    },
    {
      "cell_type": "code",
      "execution_count": null,
      "metadata": {
        "id": "S2ad8iT8qgcz"
      },
      "outputs": [],
      "source": [
        "! pip install rasterio"
      ]
    },
    {
      "cell_type": "code",
      "execution_count": null,
      "metadata": {
        "id": "vmiCUKcRru1O"
      },
      "outputs": [],
      "source": [
        "%env SM_FRAMEWORK=tf.keras\n",
        "! pip install -U segmentation-models==1.0.1"
      ]
    },
    {
      "cell_type": "code",
      "execution_count": 3,
      "metadata": {
        "colab": {
          "base_uri": "https://localhost:8080/"
        },
        "id": "dLTrhzE1q8t4",
        "outputId": "af64f741-22c8-4506-a8ec-06a0bea4d4e4"
      },
      "outputs": [
        {
          "name": "stdout",
          "output_type": "stream",
          "text": [
            "Mounted at /content/drive\n"
          ]
        }
      ],
      "source": [
        "from google.colab import drive\n",
        "drive.mount('/content/drive')"
      ]
    },
    {
      "attachments": {},
      "cell_type": "markdown",
      "metadata": {},
      "source": [
        "# Import"
      ]
    },
    {
      "cell_type": "code",
      "execution_count": 468,
      "metadata": {
        "colab": {
          "base_uri": "https://localhost:8080/"
        },
        "id": "c4OY4zUavsyv",
        "outputId": "1d3ebc39-fbe2-4c96-8952-6087da7c312f"
      },
      "outputs": [],
      "source": [
        "import tensorflow as tf\n",
        "from tensorflow import keras\n",
        "from keras.regularizers import l2\n",
        "from keras.layers import Input, Conv2D, MaxPooling2D, UpSampling2D, Concatenate, Cropping2D, BatchNormalization, Activation, Conv2DTranspose\n",
        "from tensorflow.keras.callbacks import ModelCheckpoint, CSVLogger, ReduceLROnPlateau\n",
        "from keras.models import Model\n",
        "from keras.metrics import BinaryAccuracy, Recall, Precision\n",
        "from tensorflow.keras.utils import CustomObjectScope\n",
        "from data_loader_tf import LakesDataset\n",
        "import numpy as np\n",
        "import pandas as pd\n",
        "from sklearn.model_selection import train_test_split\n",
        "from sklearn.metrics import f1_score, recall_score, precision_score\n",
        "from patch_images import CropImages\n",
        "import matplotlib.pyplot as plt\n",
        "from glob import glob\n",
        "import rasterio\n",
        "import cv2\n",
        "import os\n",
        "import random\n",
        "import segmentation_models as sm\n",
        "%matplotlib inline"
      ]
    },
    {
      "cell_type": "markdown",
      "metadata": {
        "id": "W4fK9G6cvsy-"
      },
      "source": [
        "# Input Pipeline"
      ]
    },
    {
      "cell_type": "code",
      "execution_count": 475,
      "metadata": {
        "id": "iCp9rAh0vszC"
      },
      "outputs": [],
      "source": [
        "PATCH_SIZE = 1024\n",
        "BATCH_SIZE = 16"
      ]
    },
    {
      "cell_type": "code",
      "execution_count": 476,
      "metadata": {},
      "outputs": [
        {
          "name": "stdout",
          "output_type": "stream",
          "text": [
            "Train: 97, \n",
            "Validation: 32, \n",
            "Test: 32\n"
          ]
        }
      ],
      "source": [
        "dataset = LakesDataset(PATCH_SIZE, BATCH_SIZE, path=f'../data_{str(PATCH_SIZE)}/')\n",
        "\n",
        "train_dataset = dataset.train_ds()\n",
        "val_dataset = dataset.val_ds()\n",
        "test_dataset = dataset.test_ds()\n",
        "\n",
        "print(f\"Train: {len(dataset.train_x)}, \\nValidation: {len(dataset.val_x)}, \\nTest: {len(dataset.test_x)}\")\n"
      ]
    },
    {
      "cell_type": "markdown",
      "metadata": {
        "id": "vgIlCi6MvszQ"
      },
      "source": [
        "# Model"
      ]
    },
    {
      "cell_type": "code",
      "execution_count": 318,
      "metadata": {
        "id": "80F--90qvszR"
      },
      "outputs": [],
      "source": [
        "def conv_block(inputs, num_filters, nm=''):\n",
        "    x = Conv2D(num_filters, 3, padding=\"same\", name = 'conv2d'+nm)(inputs)\n",
        "    x = BatchNormalization()(x)\n",
        "    x = Activation(\"relu\")(x)\n",
        "\n",
        "    x = Conv2D(num_filters, 3, padding=\"same\")(x)\n",
        "    x = BatchNormalization()(x)\n",
        "    x = Activation(\"relu\")(x)\n",
        "\n",
        "    return x\n",
        "\n",
        "def encoder_block(inputs, num_filters):\n",
        "    x = conv_block(inputs, num_filters)\n",
        "    p = MaxPooling2D((2, 2))(x)\n",
        "    return x, p\n",
        "\n",
        "def decoder_block(inputs, skip_features, num_filters):\n",
        "    x = Conv2DTranspose(num_filters, 2, strides=2, padding=\"same\")(inputs)\n",
        "    x = Concatenate()([x, skip_features])\n",
        "    x = conv_block(x, num_filters)\n",
        "    return x\n",
        "\n",
        "def build_unet(input_shape):\n",
        "    inputs = Input(input_shape)\n",
        "\n",
        "    s1, p1 = encoder_block(inputs, 64)\n",
        "    s2, p2 = encoder_block(p1, 128)\n",
        "    s3, p3 = encoder_block(p2, 256)\n",
        "    s4, p4 = encoder_block(p3, 512)\n",
        "\n",
        "    b1 = conv_block(p4, 1024)\n",
        "\n",
        "    d1 = decoder_block(b1, s4, 512)\n",
        "    d2 = decoder_block(d1, s3, 256)\n",
        "    d3 = decoder_block(d2, s2, 128)\n",
        "    d4 = decoder_block(d3, s1, 64)\n",
        "\n",
        "    outputs = Conv2D(1, 1, padding=\"same\", activation=\"sigmoid\")(d4)\n",
        "\n",
        "    model = Model(inputs, outputs, name=\"UNET\")\n",
        "    return model"
      ]
    },
    {
      "cell_type": "code",
      "execution_count": 39,
      "metadata": {
        "id": "LVvc-4pDvszS"
      },
      "outputs": [],
      "source": [
        "input_shape = (PATCH_SIZE, PATCH_SIZE, 3)\n",
        "\n",
        "model = build_unet(input_shape)"
      ]
    },
    {
      "cell_type": "markdown",
      "metadata": {
        "id": "2pGb8UFfvszU"
      },
      "source": [
        "# Training"
      ]
    },
    {
      "cell_type": "code",
      "execution_count": 40,
      "metadata": {
        "id": "jJAeUmrDvszV"
      },
      "outputs": [],
      "source": [
        "np.random.seed(42)\n",
        "tf.random.set_seed(42)\n",
        "\n",
        "# Optimizer Adam with learning rate 0.0001\n",
        "optim = keras.optimizers.Adam(0.0001)\n",
        "# ModelCheckpoint for saving weights of the best model\n",
        "callbacks = [ModelCheckpoint(f\"model_{str(PATCH_SIZE)}.h5\", verbose=1, save_best_only=True),\n",
        "              ReduceLROnPlateau(monitor='val_loss', factor=0.1, patience=10, min_lr=1e-7, verbose=1),\n",
        "              CSVLogger(f\"log_{str(PATCH_SIZE)}.csv\")]\n",
        "\n",
        "# Segmentation models losses can be combined together by '+' and scaled by integer or float factor\n",
        "# Dice loss and focal loss are good when we have class imbalance \n",
        "dice_loss = sm.losses.DiceLoss() \n",
        "focal_loss = sm.losses.BinaryFocalLoss() \n",
        "total_loss = dice_loss + (1 * focal_loss)\n",
        "\n",
        "# Metrics: intersection over union (IOU), F1 score\n",
        "metrics = [BinaryAccuracy(), Recall(thresholds=0.5), Precision(thresholds=0.5), sm.metrics.IOUScore(threshold=0.5), sm.metrics.FScore(threshold=0.5)]\n",
        "\n"
      ]
    },
    {
      "cell_type": "code",
      "execution_count": 41,
      "metadata": {
        "id": "wtNZg9dX-ykY"
      },
      "outputs": [],
      "source": [
        "model.compile(loss=total_loss, \n",
        "              optimizer=optim, \n",
        "              metrics=metrics,)\n"
      ]
    },
    {
      "cell_type": "code",
      "execution_count": 42,
      "metadata": {
        "colab": {
          "base_uri": "https://localhost:8080/"
        },
        "id": "PIGAYRtgvszW",
        "outputId": "36c8d0bb-92d9-4874-ea3a-cef7b7265fbe"
      },
      "outputs": [
        {
          "name": "stdout",
          "output_type": "stream",
          "text": [
            "Epoch 1/100\n"
          ]
        },
        {
          "name": "stderr",
          "output_type": "stream",
          "text": [
            "/usr/local/lib/python3.10/dist-packages/rasterio/__init__.py:304: NotGeoreferencedWarning: Dataset has no geotransform, gcps, or rpcs. The identity matrix will be returned.\n",
            "  dataset = DatasetReader(path, driver=driver, sharing=sharing, **kwargs)\n"
          ]
        },
        {
          "name": "stdout",
          "output_type": "stream",
          "text": [
            "21/21 [==============================] - ETA: 0s - loss: 1.0306 - binary_accuracy: 0.7906 - recall_5: 0.8389 - precision_5: 0.0956 - iou_score: 0.1216 - f1-score: 0.1880\n",
            "Epoch 1: val_loss improved from inf to 1.04280, saving model to model_512.h5\n",
            "21/21 [==============================] - 69s 985ms/step - loss: 1.0306 - binary_accuracy: 0.7906 - recall_5: 0.8389 - precision_5: 0.0956 - iou_score: 0.1216 - f1-score: 0.1880 - val_loss: 1.0428 - val_binary_accuracy: 0.8248 - val_recall_5: 0.2198 - val_precision_5: 0.0651 - val_iou_score: 0.0481 - val_f1-score: 0.0910 - lr: 1.0000e-04\n",
            "Epoch 2/100\n",
            "20/21 [===========================>..] - ETA: 0s - loss: 0.9381 - binary_accuracy: 0.9649 - recall_5: 0.8264 - precision_5: 0.4121 - iou_score: 0.3095 - f1-score: 0.4186\n",
            "Epoch 2: val_loss improved from 1.04280 to 1.02971, saving model to model_512.h5\n",
            "21/21 [==============================] - 12s 570ms/step - loss: 0.9386 - binary_accuracy: 0.9643 - recall_5: 0.8257 - precision_5: 0.4065 - iou_score: 0.2948 - f1-score: 0.3988 - val_loss: 1.0297 - val_binary_accuracy: 0.9392 - val_recall_5: 0.0476 - val_precision_5: 0.1030 - val_iou_score: 0.0287 - val_f1-score: 0.0555 - lr: 1.0000e-04\n",
            "Epoch 3/100\n",
            "20/21 [===========================>..] - ETA: 0s - loss: 0.9002 - binary_accuracy: 0.9761 - recall_5: 0.8181 - precision_5: 0.5250 - iou_score: 0.3675 - f1-score: 0.4799\n",
            "Epoch 3: val_loss improved from 1.02971 to 1.02722, saving model to model_512.h5\n",
            "21/21 [==============================] - 12s 571ms/step - loss: 0.9006 - binary_accuracy: 0.9761 - recall_5: 0.8174 - precision_5: 0.5241 - iou_score: 0.3502 - f1-score: 0.4574 - val_loss: 1.0272 - val_binary_accuracy: 0.9429 - val_recall_5: 0.0014 - val_precision_5: 0.0051 - val_iou_score: 0.0011 - val_f1-score: 0.0021 - lr: 1.0000e-04\n",
            "Epoch 4/100\n",
            "20/21 [===========================>..] - ETA: 0s - loss: 0.8758 - binary_accuracy: 0.9779 - recall_5: 0.8242 - precision_5: 0.5486 - iou_score: 0.3803 - f1-score: 0.4939\n",
            "Epoch 4: val_loss improved from 1.02722 to 1.00550, saving model to model_512.h5\n",
            "21/21 [==============================] - 12s 571ms/step - loss: 0.8762 - binary_accuracy: 0.9779 - recall_5: 0.8235 - precision_5: 0.5485 - iou_score: 0.3625 - f1-score: 0.4711 - val_loss: 1.0055 - val_binary_accuracy: 0.9538 - val_recall_5: 1.0185e-04 - val_precision_5: 0.0026 - val_iou_score: 8.3282e-05 - val_f1-score: 1.6651e-04 - lr: 1.0000e-04\n",
            "Epoch 5/100\n",
            "20/21 [===========================>..] - ETA: 0s - loss: 0.8542 - binary_accuracy: 0.9788 - recall_5: 0.8184 - precision_5: 0.5623 - iou_score: 0.3911 - f1-score: 0.5030\n",
            "Epoch 5: val_loss did not improve from 1.00550\n",
            "21/21 [==============================] - 11s 534ms/step - loss: 0.8546 - binary_accuracy: 0.9788 - recall_5: 0.8177 - precision_5: 0.5622 - iou_score: 0.3733 - f1-score: 0.4805 - val_loss: 1.0289 - val_binary_accuracy: 0.6391 - val_recall_5: 0.5814 - val_precision_5: 0.0703 - val_iou_score: 0.0630 - val_f1-score: 0.1170 - lr: 1.0000e-04\n",
            "Epoch 6/100\n",
            "20/21 [===========================>..] - ETA: 0s - loss: 0.8335 - binary_accuracy: 0.9800 - recall_5: 0.8336 - precision_5: 0.5796 - iou_score: 0.4061 - f1-score: 0.5225\n",
            "Epoch 6: val_loss did not improve from 1.00550\n",
            "21/21 [==============================] - 12s 536ms/step - loss: 0.8340 - binary_accuracy: 0.9800 - recall_5: 0.8331 - precision_5: 0.5795 - iou_score: 0.3942 - f1-score: 0.5105 - val_loss: 1.1382 - val_binary_accuracy: 0.3490 - val_recall_5: 0.7132 - val_precision_5: 0.0474 - val_iou_score: 0.0445 - val_f1-score: 0.0844 - lr: 1.0000e-04\n",
            "Epoch 7/100\n",
            "20/21 [===========================>..] - ETA: 0s - loss: 0.8185 - binary_accuracy: 0.9801 - recall_5: 0.8275 - precision_5: 0.5819 - iou_score: 0.4073 - f1-score: 0.5227\n",
            "Epoch 7: val_loss improved from 1.00550 to 0.94058, saving model to model_512.h5\n",
            "21/21 [==============================] - 12s 580ms/step - loss: 0.8191 - binary_accuracy: 0.9800 - recall_5: 0.8274 - precision_5: 0.5801 - iou_score: 0.3932 - f1-score: 0.5073 - val_loss: 0.9406 - val_binary_accuracy: 0.9590 - val_recall_5: 0.7949 - val_precision_5: 0.5260 - val_iou_score: 0.4090 - val_f1-score: 0.5473 - lr: 1.0000e-04\n",
            "Epoch 8/100\n",
            "20/21 [===========================>..] - ETA: 0s - loss: 0.8083 - binary_accuracy: 0.9813 - recall_5: 0.8419 - precision_5: 0.5984 - iou_score: 0.4221 - f1-score: 0.5398\n",
            "Epoch 8: val_loss did not improve from 0.94058\n",
            "21/21 [==============================] - 11s 528ms/step - loss: 0.8089 - binary_accuracy: 0.9813 - recall_5: 0.8412 - precision_5: 0.5983 - iou_score: 0.4020 - f1-score: 0.5141 - val_loss: 1.0580 - val_binary_accuracy: 0.5029 - val_recall_5: 0.9582 - val_precision_5: 0.0793 - val_iou_score: 0.0736 - val_f1-score: 0.1353 - lr: 1.0000e-04\n",
            "Epoch 9/100\n",
            "20/21 [===========================>..] - ETA: 0s - loss: 0.7967 - binary_accuracy: 0.9815 - recall_5: 0.8462 - precision_5: 0.6017 - iou_score: 0.4284 - f1-score: 0.5476\n",
            "Epoch 9: val_loss did not improve from 0.94058\n",
            "21/21 [==============================] - 11s 535ms/step - loss: 0.7973 - binary_accuracy: 0.9815 - recall_5: 0.8456 - precision_5: 0.6017 - iou_score: 0.4108 - f1-score: 0.5268 - val_loss: 1.0790 - val_binary_accuracy: 0.4171 - val_recall_5: 0.9701 - val_precision_5: 0.0691 - val_iou_score: 0.0649 - val_f1-score: 0.1205 - lr: 1.0000e-04\n",
            "Epoch 10/100\n",
            "20/21 [===========================>..] - ETA: 0s - loss: 0.7826 - binary_accuracy: 0.9813 - recall_5: 0.8510 - precision_5: 0.5971 - iou_score: 0.4276 - f1-score: 0.5480\n",
            "Epoch 10: val_loss did not improve from 0.94058\n",
            "21/21 [==============================] - 11s 529ms/step - loss: 0.7832 - binary_accuracy: 0.9813 - recall_5: 0.8508 - precision_5: 0.5968 - iou_score: 0.4187 - f1-score: 0.5404 - val_loss: 1.3645 - val_binary_accuracy: 0.1596 - val_recall_5: 0.9916 - val_precision_5: 0.0499 - val_iou_score: 0.0477 - val_f1-score: 0.0902 - lr: 1.0000e-04\n",
            "Epoch 11/100\n",
            "20/21 [===========================>..] - ETA: 0s - loss: 0.7674 - binary_accuracy: 0.9830 - recall_5: 0.8551 - precision_5: 0.6267 - iou_score: 0.4510 - f1-score: 0.5665\n",
            "Epoch 11: val_loss did not improve from 0.94058\n",
            "21/21 [==============================] - 11s 532ms/step - loss: 0.7680 - binary_accuracy: 0.9830 - recall_5: 0.8551 - precision_5: 0.6248 - iou_score: 0.4356 - f1-score: 0.5502 - val_loss: 1.4503 - val_binary_accuracy: 0.1852 - val_recall_5: 0.9944 - val_precision_5: 0.0515 - val_iou_score: 0.0495 - val_f1-score: 0.0933 - lr: 1.0000e-04\n",
            "Epoch 12/100\n",
            "20/21 [===========================>..] - ETA: 0s - loss: 0.7592 - binary_accuracy: 0.9827 - recall_5: 0.8608 - precision_5: 0.6205 - iou_score: 0.4455 - f1-score: 0.5646\n",
            "Epoch 12: val_loss did not improve from 0.94058\n",
            "21/21 [==============================] - 11s 531ms/step - loss: 0.7599 - binary_accuracy: 0.9827 - recall_5: 0.8601 - precision_5: 0.6191 - iou_score: 0.4242 - f1-score: 0.5377 - val_loss: 1.4139 - val_binary_accuracy: 0.2709 - val_recall_5: 0.9891 - val_precision_5: 0.0570 - val_iou_score: 0.0543 - val_f1-score: 0.1020 - lr: 1.0000e-04\n",
            "Epoch 13/100\n",
            "20/21 [===========================>..] - ETA: 0s - loss: 0.7542 - binary_accuracy: 0.9827 - recall_5: 0.8641 - precision_5: 0.6192 - iou_score: 0.4479 - f1-score: 0.5704\n",
            "Epoch 13: val_loss did not improve from 0.94058\n",
            "21/21 [==============================] - 12s 536ms/step - loss: 0.7550 - binary_accuracy: 0.9827 - recall_5: 0.8633 - precision_5: 0.6192 - iou_score: 0.4267 - f1-score: 0.5434 - val_loss: 1.0064 - val_binary_accuracy: 0.7525 - val_recall_5: 0.9337 - val_precision_5: 0.1453 - val_iou_score: 0.1329 - val_f1-score: 0.2293 - lr: 1.0000e-04\n",
            "Epoch 14/100\n",
            "20/21 [===========================>..] - ETA: 0s - loss: 0.7431 - binary_accuracy: 0.9825 - recall_5: 0.8559 - precision_5: 0.6175 - iou_score: 0.4406 - f1-score: 0.5628\n",
            "Epoch 14: val_loss did not improve from 0.94058\n",
            "21/21 [==============================] - 11s 534ms/step - loss: 0.7438 - binary_accuracy: 0.9826 - recall_5: 0.8554 - precision_5: 0.6175 - iou_score: 0.4297 - f1-score: 0.5526 - val_loss: 1.2645 - val_binary_accuracy: 0.5152 - val_recall_5: 0.9720 - val_precision_5: 0.0821 - val_iou_score: 0.0769 - val_f1-score: 0.1408 - lr: 1.0000e-04\n",
            "Epoch 15/100\n",
            "20/21 [===========================>..] - ETA: 0s - loss: 0.7294 - binary_accuracy: 0.9839 - recall_5: 0.8594 - precision_5: 0.6422 - iou_score: 0.4625 - f1-score: 0.5791\n",
            "Epoch 15: val_loss improved from 0.94058 to 0.94009, saving model to model_512.h5\n",
            "21/21 [==============================] - 13s 602ms/step - loss: 0.7302 - binary_accuracy: 0.9839 - recall_5: 0.8591 - precision_5: 0.6409 - iou_score: 0.4468 - f1-score: 0.5627 - val_loss: 0.9401 - val_binary_accuracy: 0.8288 - val_recall_5: 0.9423 - val_precision_5: 0.1992 - val_iou_score: 0.1862 - val_f1-score: 0.3036 - lr: 1.0000e-04\n",
            "Epoch 16/100\n",
            "20/21 [===========================>..] - ETA: 0s - loss: 0.7170 - binary_accuracy: 0.9840 - recall_5: 0.8737 - precision_5: 0.6401 - iou_score: 0.4698 - f1-score: 0.5890\n",
            "Epoch 16: val_loss did not improve from 0.94009\n",
            "21/21 [==============================] - 12s 536ms/step - loss: 0.7178 - binary_accuracy: 0.9840 - recall_5: 0.8730 - precision_5: 0.6400 - iou_score: 0.4474 - f1-score: 0.5609 - val_loss: 0.9597 - val_binary_accuracy: 0.8168 - val_recall_5: 0.9505 - val_precision_5: 0.1895 - val_iou_score: 0.1766 - val_f1-score: 0.2911 - lr: 1.0000e-04\n",
            "Epoch 17/100\n",
            "20/21 [===========================>..] - ETA: 0s - loss: 0.7026 - binary_accuracy: 0.9851 - recall_5: 0.8876 - precision_5: 0.6584 - iou_score: 0.4856 - f1-score: 0.6055\n",
            "Epoch 17: val_loss improved from 0.94009 to 0.93369, saving model to model_512.h5\n",
            "21/21 [==============================] - 12s 577ms/step - loss: 0.7034 - binary_accuracy: 0.9851 - recall_5: 0.8875 - precision_5: 0.6577 - iou_score: 0.4734 - f1-score: 0.5945 - val_loss: 0.9337 - val_binary_accuracy: 0.8426 - val_recall_5: 0.9562 - val_precision_5: 0.2149 - val_iou_score: 0.2011 - val_f1-score: 0.3236 - lr: 1.0000e-04\n",
            "Epoch 18/100\n",
            "20/21 [===========================>..] - ETA: 0s - loss: 0.6958 - binary_accuracy: 0.9852 - recall_5: 0.8952 - precision_5: 0.6577 - iou_score: 0.4903 - f1-score: 0.6103\n",
            "Epoch 18: val_loss improved from 0.93369 to 0.81832, saving model to model_512.h5\n",
            "21/21 [==============================] - 12s 580ms/step - loss: 0.6966 - binary_accuracy: 0.9851 - recall_5: 0.8952 - precision_5: 0.6545 - iou_score: 0.4714 - f1-score: 0.5892 - val_loss: 0.8183 - val_binary_accuracy: 0.8908 - val_recall_5: 0.9303 - val_precision_5: 0.2808 - val_iou_score: 0.2580 - val_f1-score: 0.3929 - lr: 1.0000e-04\n",
            "Epoch 19/100\n",
            "20/21 [===========================>..] - ETA: 0s - loss: 0.6850 - binary_accuracy: 0.9852 - recall_5: 0.8905 - precision_5: 0.6587 - iou_score: 0.4894 - f1-score: 0.6110\n",
            "Epoch 19: val_loss did not improve from 0.81832\n",
            "21/21 [==============================] - 11s 530ms/step - loss: 0.6859 - binary_accuracy: 0.9852 - recall_5: 0.8897 - precision_5: 0.6586 - iou_score: 0.4661 - f1-score: 0.5819 - val_loss: 0.8768 - val_binary_accuracy: 0.8669 - val_recall_5: 0.9444 - val_precision_5: 0.2435 - val_iou_score: 0.2269 - val_f1-score: 0.3561 - lr: 1.0000e-04\n",
            "Epoch 20/100\n",
            "20/21 [===========================>..] - ETA: 0s - loss: 0.6803 - binary_accuracy: 0.9855 - recall_5: 0.8684 - precision_5: 0.6699 - iou_score: 0.4902 - f1-score: 0.6074\n",
            "Epoch 20: val_loss improved from 0.81832 to 0.73664, saving model to model_512.h5\n",
            "21/21 [==============================] - 12s 570ms/step - loss: 0.6813 - binary_accuracy: 0.9855 - recall_5: 0.8676 - precision_5: 0.6699 - iou_score: 0.4669 - f1-score: 0.5785 - val_loss: 0.7366 - val_binary_accuracy: 0.9227 - val_recall_5: 0.9234 - val_precision_5: 0.3575 - val_iou_score: 0.3253 - val_f1-score: 0.4662 - lr: 1.0000e-04\n",
            "Epoch 21/100\n",
            "20/21 [===========================>..] - ETA: 0s - loss: 0.6680 - binary_accuracy: 0.9850 - recall_5: 0.8978 - precision_5: 0.6540 - iou_score: 0.4927 - f1-score: 0.6117\n",
            "Epoch 21: val_loss improved from 0.73664 to 0.66865, saving model to model_512.h5\n",
            "21/21 [==============================] - 12s 577ms/step - loss: 0.6690 - binary_accuracy: 0.9851 - recall_5: 0.8971 - precision_5: 0.6540 - iou_score: 0.4693 - f1-score: 0.5826 - val_loss: 0.6686 - val_binary_accuracy: 0.9445 - val_recall_5: 0.9259 - val_precision_5: 0.4411 - val_iou_score: 0.3970 - val_f1-score: 0.5366 - lr: 1.0000e-04\n",
            "Epoch 22/100\n",
            "20/21 [===========================>..] - ETA: 0s - loss: 0.6561 - binary_accuracy: 0.9859 - recall_5: 0.8949 - precision_5: 0.6709 - iou_score: 0.5029 - f1-score: 0.6235\n",
            "Epoch 22: val_loss improved from 0.66865 to 0.59269, saving model to model_512.h5\n",
            "21/21 [==============================] - 12s 574ms/step - loss: 0.6571 - binary_accuracy: 0.9859 - recall_5: 0.8941 - precision_5: 0.6708 - iou_score: 0.4789 - f1-score: 0.5938 - val_loss: 0.5927 - val_binary_accuracy: 0.9623 - val_recall_5: 0.9147 - val_precision_5: 0.5454 - val_iou_score: 0.4708 - val_f1-score: 0.6007 - lr: 1.0000e-04\n",
            "Epoch 23/100\n",
            "20/21 [===========================>..] - ETA: 0s - loss: 0.6443 - binary_accuracy: 0.9861 - recall_5: 0.8985 - precision_5: 0.6738 - iou_score: 0.5077 - f1-score: 0.6262\n",
            "Epoch 23: val_loss improved from 0.59269 to 0.55165, saving model to model_512.h5\n",
            "21/21 [==============================] - 12s 573ms/step - loss: 0.6453 - binary_accuracy: 0.9861 - recall_5: 0.8979 - precision_5: 0.6738 - iou_score: 0.4866 - f1-score: 0.6020 - val_loss: 0.5517 - val_binary_accuracy: 0.9722 - val_recall_5: 0.9225 - val_precision_5: 0.6276 - val_iou_score: 0.5383 - val_f1-score: 0.6545 - lr: 1.0000e-04\n",
            "Epoch 24/100\n",
            "20/21 [===========================>..] - ETA: 0s - loss: 0.6398 - binary_accuracy: 0.9864 - recall_5: 0.8920 - precision_5: 0.6824 - iou_score: 0.5077 - f1-score: 0.6258\n",
            "Epoch 24: val_loss did not improve from 0.55165\n",
            "21/21 [==============================] - 11s 530ms/step - loss: 0.6407 - binary_accuracy: 0.9865 - recall_5: 0.8917 - precision_5: 0.6823 - iou_score: 0.5014 - f1-score: 0.6221 - val_loss: 0.5622 - val_binary_accuracy: 0.9670 - val_recall_5: 0.9175 - val_precision_5: 0.5823 - val_iou_score: 0.5012 - val_f1-score: 0.6272 - lr: 1.0000e-04\n",
            "Epoch 25/100\n",
            "20/21 [===========================>..] - ETA: 0s - loss: 0.6297 - binary_accuracy: 0.9860 - recall_5: 0.8993 - precision_5: 0.6715 - iou_score: 0.5067 - f1-score: 0.6258\n",
            "Epoch 25: val_loss did not improve from 0.55165\n",
            "21/21 [==============================] - 11s 531ms/step - loss: 0.6305 - binary_accuracy: 0.9860 - recall_5: 0.8992 - precision_5: 0.6710 - iou_score: 0.4960 - f1-score: 0.6170 - val_loss: 0.5560 - val_binary_accuracy: 0.9693 - val_recall_5: 0.9327 - val_precision_5: 0.5994 - val_iou_score: 0.5204 - val_f1-score: 0.6425 - lr: 1.0000e-04\n",
            "Epoch 26/100\n",
            "20/21 [===========================>..] - ETA: 0s - loss: 0.6255 - binary_accuracy: 0.9866 - recall_5: 0.8767 - precision_5: 0.6895 - iou_score: 0.5091 - f1-score: 0.6271\n",
            "Epoch 26: val_loss did not improve from 0.55165\n",
            "21/21 [==============================] - 11s 530ms/step - loss: 0.6264 - binary_accuracy: 0.9866 - recall_5: 0.8762 - precision_5: 0.6895 - iou_score: 0.5013 - f1-score: 0.6217 - val_loss: 0.5562 - val_binary_accuracy: 0.9675 - val_recall_5: 0.9294 - val_precision_5: 0.5847 - val_iou_score: 0.5078 - val_f1-score: 0.6322 - lr: 1.0000e-04\n",
            "Epoch 27/100\n",
            "20/21 [===========================>..] - ETA: 0s - loss: 0.6232 - binary_accuracy: 0.9855 - recall_5: 0.8933 - precision_5: 0.6642 - iou_score: 0.5011 - f1-score: 0.6233\n",
            "Epoch 27: val_loss improved from 0.55165 to 0.48288, saving model to model_512.h5\n",
            "21/21 [==============================] - 12s 572ms/step - loss: 0.6245 - binary_accuracy: 0.9853 - recall_5: 0.8933 - precision_5: 0.6590 - iou_score: 0.4803 - f1-score: 0.5994 - val_loss: 0.4829 - val_binary_accuracy: 0.9771 - val_recall_5: 0.9027 - val_precision_5: 0.6841 - val_iou_score: 0.5671 - val_f1-score: 0.6783 - lr: 1.0000e-04\n",
            "Epoch 28/100\n",
            "20/21 [===========================>..] - ETA: 0s - loss: 0.6424 - binary_accuracy: 0.9824 - recall_5: 0.8424 - precision_5: 0.6183 - iou_score: 0.4626 - f1-score: 0.5857\n",
            "Epoch 28: val_loss did not improve from 0.48288\n",
            "21/21 [==============================] - 11s 531ms/step - loss: 0.6436 - binary_accuracy: 0.9823 - recall_5: 0.8417 - precision_5: 0.6155 - iou_score: 0.4405 - f1-score: 0.5578 - val_loss: 0.5041 - val_binary_accuracy: 0.9732 - val_recall_5: 0.9120 - val_precision_5: 0.6400 - val_iou_score: 0.5453 - val_f1-score: 0.6582 - lr: 1.0000e-04\n",
            "Epoch 29/100\n",
            "20/21 [===========================>..] - ETA: 0s - loss: 0.6563 - binary_accuracy: 0.9813 - recall_5: 0.8299 - precision_5: 0.6003 - iou_score: 0.4351 - f1-score: 0.5530\n",
            "Epoch 29: val_loss did not improve from 0.48288\n",
            "21/21 [==============================] - 11s 534ms/step - loss: 0.6571 - binary_accuracy: 0.9813 - recall_5: 0.8294 - precision_5: 0.6004 - iou_score: 0.4257 - f1-score: 0.5450 - val_loss: 0.5258 - val_binary_accuracy: 0.9776 - val_recall_5: 0.7011 - val_precision_5: 0.7752 - val_iou_score: 0.5009 - val_f1-score: 0.6125 - lr: 1.0000e-04\n",
            "Epoch 30/100\n",
            "20/21 [===========================>..] - ETA: 0s - loss: 0.6252 - binary_accuracy: 0.9836 - recall_5: 0.8612 - precision_5: 0.6354 - iou_score: 0.4633 - f1-score: 0.5850\n",
            "Epoch 30: val_loss did not improve from 0.48288\n",
            "21/21 [==============================] - 11s 535ms/step - loss: 0.6260 - binary_accuracy: 0.9835 - recall_5: 0.8612 - precision_5: 0.6325 - iou_score: 0.4460 - f1-score: 0.5659 - val_loss: 0.4884 - val_binary_accuracy: 0.9800 - val_recall_5: 0.7824 - val_precision_5: 0.7715 - val_iou_score: 0.5521 - val_f1-score: 0.6631 - lr: 1.0000e-04\n",
            "Epoch 31/100\n",
            "20/21 [===========================>..] - ETA: 0s - loss: 0.6085 - binary_accuracy: 0.9851 - recall_5: 0.8574 - precision_5: 0.6650 - iou_score: 0.4830 - f1-score: 0.6059\n",
            "Epoch 31: val_loss improved from 0.48288 to 0.47039, saving model to model_512.h5\n",
            "21/21 [==============================] - 12s 576ms/step - loss: 0.6096 - binary_accuracy: 0.9851 - recall_5: 0.8567 - precision_5: 0.6650 - iou_score: 0.4613 - f1-score: 0.5796 - val_loss: 0.4704 - val_binary_accuracy: 0.9782 - val_recall_5: 0.8512 - val_precision_5: 0.7138 - val_iou_score: 0.5582 - val_f1-score: 0.6703 - lr: 1.0000e-04\n",
            "Epoch 32/100\n",
            "20/21 [===========================>..] - ETA: 0s - loss: 0.6193 - binary_accuracy: 0.9840 - recall_5: 0.8837 - precision_5: 0.6383 - iou_score: 0.4734 - f1-score: 0.5947\n",
            "Epoch 32: val_loss did not improve from 0.47039\n",
            "21/21 [==============================] - 11s 531ms/step - loss: 0.6201 - binary_accuracy: 0.9840 - recall_5: 0.8835 - precision_5: 0.6380 - iou_score: 0.4644 - f1-score: 0.5876 - val_loss: 0.4926 - val_binary_accuracy: 0.9791 - val_recall_5: 0.7739 - val_precision_5: 0.7600 - val_iou_score: 0.5394 - val_f1-score: 0.6517 - lr: 1.0000e-04\n",
            "Epoch 33/100\n",
            "20/21 [===========================>..] - ETA: 0s - loss: 0.5967 - binary_accuracy: 0.9848 - recall_5: 0.8903 - precision_5: 0.6506 - iou_score: 0.4865 - f1-score: 0.6091\n",
            "Epoch 33: val_loss improved from 0.47039 to 0.45143, saving model to model_512.h5\n",
            "21/21 [==============================] - 12s 575ms/step - loss: 0.5975 - binary_accuracy: 0.9848 - recall_5: 0.8902 - precision_5: 0.6499 - iou_score: 0.4758 - f1-score: 0.5998 - val_loss: 0.4514 - val_binary_accuracy: 0.9789 - val_recall_5: 0.8662 - val_precision_5: 0.7183 - val_iou_score: 0.5696 - val_f1-score: 0.6786 - lr: 1.0000e-04\n",
            "Epoch 34/100\n",
            "20/21 [===========================>..] - ETA: 0s - loss: 0.5797 - binary_accuracy: 0.9860 - recall_5: 0.8869 - precision_5: 0.6752 - iou_score: 0.5031 - f1-score: 0.6226\n",
            "Epoch 34: val_loss improved from 0.45143 to 0.45112, saving model to model_512.h5\n",
            "21/21 [==============================] - 12s 573ms/step - loss: 0.5806 - binary_accuracy: 0.9860 - recall_5: 0.8864 - precision_5: 0.6752 - iou_score: 0.4924 - f1-score: 0.6137 - val_loss: 0.4511 - val_binary_accuracy: 0.9789 - val_recall_5: 0.8663 - val_precision_5: 0.7177 - val_iou_score: 0.5695 - val_f1-score: 0.6786 - lr: 1.0000e-04\n",
            "Epoch 35/100\n",
            "20/21 [===========================>..] - ETA: 0s - loss: 0.5641 - binary_accuracy: 0.9867 - recall_5: 0.8873 - precision_5: 0.6892 - iou_score: 0.5140 - f1-score: 0.6308\n",
            "Epoch 35: val_loss improved from 0.45112 to 0.44220, saving model to model_512.h5\n",
            "21/21 [==============================] - 12s 575ms/step - loss: 0.5652 - binary_accuracy: 0.9866 - recall_5: 0.8874 - precision_5: 0.6855 - iou_score: 0.4940 - f1-score: 0.6089 - val_loss: 0.4422 - val_binary_accuracy: 0.9782 - val_recall_5: 0.8866 - val_precision_5: 0.7025 - val_iou_score: 0.5739 - val_f1-score: 0.6824 - lr: 1.0000e-04\n",
            "Epoch 36/100\n",
            "20/21 [===========================>..] - ETA: 0s - loss: 0.5849 - binary_accuracy: 0.9837 - recall_5: 0.8516 - precision_5: 0.6399 - iou_score: 0.4718 - f1-score: 0.5981\n",
            "Epoch 36: val_loss did not improve from 0.44220\n",
            "21/21 [==============================] - 11s 532ms/step - loss: 0.5857 - binary_accuracy: 0.9838 - recall_5: 0.8513 - precision_5: 0.6398 - iou_score: 0.4640 - f1-score: 0.5920 - val_loss: 0.4485 - val_binary_accuracy: 0.9777 - val_recall_5: 0.8594 - val_precision_5: 0.7043 - val_iou_score: 0.5566 - val_f1-score: 0.6660 - lr: 1.0000e-04\n",
            "Epoch 37/100\n",
            "20/21 [===========================>..] - ETA: 0s - loss: 0.5926 - binary_accuracy: 0.9830 - recall_5: 0.8089 - precision_5: 0.6349 - iou_score: 0.4605 - f1-score: 0.5812\n",
            "Epoch 37: val_loss did not improve from 0.44220\n",
            "21/21 [==============================] - 12s 547ms/step - loss: 0.5935 - binary_accuracy: 0.9830 - recall_5: 0.8089 - precision_5: 0.6343 - iou_score: 0.4511 - f1-score: 0.5735 - val_loss: 0.5038 - val_binary_accuracy: 0.9779 - val_recall_5: 0.7148 - val_precision_5: 0.7719 - val_iou_score: 0.5069 - val_f1-score: 0.6216 - lr: 1.0000e-04\n",
            "Epoch 38/100\n",
            "20/21 [===========================>..] - ETA: 0s - loss: 0.5995 - binary_accuracy: 0.9837 - recall_5: 0.8348 - precision_5: 0.6426 - iou_score: 0.4509 - f1-score: 0.5714\n",
            "Epoch 38: val_loss did not improve from 0.44220\n",
            "21/21 [==============================] - 11s 534ms/step - loss: 0.6001 - binary_accuracy: 0.9837 - recall_5: 0.8348 - precision_5: 0.6420 - iou_score: 0.4426 - f1-score: 0.5649 - val_loss: 0.4544 - val_binary_accuracy: 0.9767 - val_recall_5: 0.8400 - val_precision_5: 0.6983 - val_iou_score: 0.5386 - val_f1-score: 0.6546 - lr: 1.0000e-04\n",
            "Epoch 39/100\n",
            "20/21 [===========================>..] - ETA: 0s - loss: 0.5754 - binary_accuracy: 0.9847 - recall_5: 0.8565 - precision_5: 0.6565 - iou_score: 0.4713 - f1-score: 0.5880\n",
            "Epoch 39: val_loss did not improve from 0.44220\n",
            "21/21 [==============================] - 12s 536ms/step - loss: 0.5762 - binary_accuracy: 0.9847 - recall_5: 0.8561 - precision_5: 0.6566 - iou_score: 0.4688 - f1-score: 0.5882 - val_loss: 0.4478 - val_binary_accuracy: 0.9769 - val_recall_5: 0.8718 - val_precision_5: 0.6907 - val_iou_score: 0.5558 - val_f1-score: 0.6720 - lr: 1.0000e-04\n",
            "Epoch 40/100\n",
            "20/21 [===========================>..] - ETA: 0s - loss: 0.5492 - binary_accuracy: 0.9857 - recall_5: 0.8763 - precision_5: 0.6721 - iou_score: 0.4988 - f1-score: 0.6178\n",
            "Epoch 40: val_loss improved from 0.44220 to 0.43361, saving model to model_512.h5\n",
            "21/21 [==============================] - 12s 573ms/step - loss: 0.5503 - binary_accuracy: 0.9856 - recall_5: 0.8763 - precision_5: 0.6687 - iou_score: 0.4797 - f1-score: 0.5969 - val_loss: 0.4336 - val_binary_accuracy: 0.9771 - val_recall_5: 0.8939 - val_precision_5: 0.6866 - val_iou_score: 0.5632 - val_f1-score: 0.6764 - lr: 1.0000e-04\n",
            "Epoch 41/100\n",
            "20/21 [===========================>..] - ETA: 0s - loss: 0.5556 - binary_accuracy: 0.9863 - recall_5: 0.8208 - precision_5: 0.7010 - iou_score: 0.4923 - f1-score: 0.6157\n",
            "Epoch 41: val_loss improved from 0.43361 to 0.42989, saving model to model_512.h5\n",
            "21/21 [==============================] - 12s 574ms/step - loss: 0.5562 - binary_accuracy: 0.9863 - recall_5: 0.8207 - precision_5: 0.7009 - iou_score: 0.4928 - f1-score: 0.6182 - val_loss: 0.4299 - val_binary_accuracy: 0.9758 - val_recall_5: 0.9172 - val_precision_5: 0.6656 - val_iou_score: 0.5646 - val_f1-score: 0.6799 - lr: 1.0000e-04\n",
            "Epoch 42/100\n",
            "20/21 [===========================>..] - ETA: 0s - loss: 0.5894 - binary_accuracy: 0.9827 - recall_5: 0.7924 - precision_5: 0.6329 - iou_score: 0.4332 - f1-score: 0.5717\n",
            "Epoch 42: val_loss did not improve from 0.42989\n",
            "21/21 [==============================] - 11s 534ms/step - loss: 0.5900 - binary_accuracy: 0.9827 - recall_5: 0.7924 - precision_5: 0.6324 - iou_score: 0.4283 - f1-score: 0.5681 - val_loss: 0.4499 - val_binary_accuracy: 0.9722 - val_recall_5: 0.9351 - val_precision_5: 0.6255 - val_iou_score: 0.5458 - val_f1-score: 0.6583 - lr: 1.0000e-04\n",
            "Epoch 43/100\n",
            "20/21 [===========================>..] - ETA: 0s - loss: 0.6006 - binary_accuracy: 0.9832 - recall_5: 0.8688 - precision_5: 0.6275 - iou_score: 0.4620 - f1-score: 0.5791\n",
            "Epoch 43: val_loss improved from 0.42989 to 0.40010, saving model to model_512.h5\n",
            "21/21 [==============================] - 12s 575ms/step - loss: 0.6013 - binary_accuracy: 0.9832 - recall_5: 0.8687 - precision_5: 0.6271 - iou_score: 0.4528 - f1-score: 0.5716 - val_loss: 0.4001 - val_binary_accuracy: 0.9746 - val_recall_5: 0.9372 - val_precision_5: 0.6489 - val_iou_score: 0.5673 - val_f1-score: 0.6844 - lr: 1.0000e-04\n",
            "Epoch 44/100\n",
            "20/21 [===========================>..] - ETA: 0s - loss: 0.5545 - binary_accuracy: 0.9849 - recall_5: 0.8921 - precision_5: 0.6536 - iou_score: 0.4893 - f1-score: 0.6051\n",
            "Epoch 44: val_loss improved from 0.40010 to 0.38182, saving model to model_512.h5\n",
            "21/21 [==============================] - 12s 576ms/step - loss: 0.5553 - binary_accuracy: 0.9849 - recall_5: 0.8921 - precision_5: 0.6529 - iou_score: 0.4792 - f1-score: 0.5969 - val_loss: 0.3818 - val_binary_accuracy: 0.9774 - val_recall_5: 0.9191 - val_precision_5: 0.6828 - val_iou_score: 0.5818 - val_f1-score: 0.6942 - lr: 1.0000e-04\n",
            "Epoch 45/100\n",
            "20/21 [===========================>..] - ETA: 0s - loss: 0.5407 - binary_accuracy: 0.9850 - recall_5: 0.8693 - precision_5: 0.6606 - iou_score: 0.4934 - f1-score: 0.6125\n",
            "Epoch 45: val_loss improved from 0.38182 to 0.37482, saving model to model_512.h5\n",
            "21/21 [==============================] - 12s 574ms/step - loss: 0.5414 - binary_accuracy: 0.9851 - recall_5: 0.8691 - precision_5: 0.6607 - iou_score: 0.4926 - f1-score: 0.6141 - val_loss: 0.3748 - val_binary_accuracy: 0.9799 - val_recall_5: 0.8838 - val_precision_5: 0.7252 - val_iou_score: 0.5919 - val_f1-score: 0.7026 - lr: 1.0000e-04\n",
            "Epoch 46/100\n",
            "20/21 [===========================>..] - ETA: 0s - loss: 0.5268 - binary_accuracy: 0.9859 - recall_5: 0.8759 - precision_5: 0.6765 - iou_score: 0.5003 - f1-score: 0.6228\n",
            "Epoch 46: val_loss did not improve from 0.37482\n",
            "21/21 [==============================] - 11s 532ms/step - loss: 0.5274 - binary_accuracy: 0.9859 - recall_5: 0.8758 - precision_5: 0.6762 - iou_score: 0.4959 - f1-score: 0.6207 - val_loss: 0.3886 - val_binary_accuracy: 0.9780 - val_recall_5: 0.9090 - val_precision_5: 0.6929 - val_iou_score: 0.5794 - val_f1-score: 0.6870 - lr: 1.0000e-04\n",
            "Epoch 47/100\n",
            "20/21 [===========================>..] - ETA: 0s - loss: 0.5144 - binary_accuracy: 0.9864 - recall_5: 0.8788 - precision_5: 0.6863 - iou_score: 0.5112 - f1-score: 0.6321\n",
            "Epoch 47: val_loss did not improve from 0.37482\n",
            "21/21 [==============================] - 11s 534ms/step - loss: 0.5150 - binary_accuracy: 0.9865 - recall_5: 0.8786 - precision_5: 0.6863 - iou_score: 0.5137 - f1-score: 0.6364 - val_loss: 0.6303 - val_binary_accuracy: 0.9607 - val_recall_5: 0.2974 - val_precision_5: 0.6226 - val_iou_score: 0.2167 - val_f1-score: 0.3424 - lr: 1.0000e-04\n",
            "Epoch 48/100\n",
            "20/21 [===========================>..] - ETA: 0s - loss: 0.5392 - binary_accuracy: 0.9837 - recall_5: 0.7906 - precision_5: 0.6528 - iou_score: 0.4699 - f1-score: 0.5995\n",
            "Epoch 48: val_loss did not improve from 0.37482\n",
            "21/21 [==============================] - 11s 530ms/step - loss: 0.5399 - binary_accuracy: 0.9837 - recall_5: 0.7907 - precision_5: 0.6520 - iou_score: 0.4594 - f1-score: 0.5901 - val_loss: 0.4820 - val_binary_accuracy: 0.9784 - val_recall_5: 0.7049 - val_precision_5: 0.7886 - val_iou_score: 0.5117 - val_f1-score: 0.6218 - lr: 1.0000e-04\n",
            "Epoch 49/100\n",
            "20/21 [===========================>..] - ETA: 0s - loss: 0.5505 - binary_accuracy: 0.9840 - recall_5: 0.8362 - precision_5: 0.6490 - iou_score: 0.4593 - f1-score: 0.5817\n",
            "Epoch 49: val_loss did not improve from 0.37482\n",
            "21/21 [==============================] - 11s 535ms/step - loss: 0.5520 - binary_accuracy: 0.9840 - recall_5: 0.8355 - precision_5: 0.6486 - iou_score: 0.4377 - f1-score: 0.5545 - val_loss: 0.4604 - val_binary_accuracy: 0.9770 - val_recall_5: 0.7186 - val_precision_5: 0.7535 - val_iou_score: 0.5041 - val_f1-score: 0.6133 - lr: 1.0000e-04\n",
            "Epoch 50/100\n",
            "20/21 [===========================>..] - ETA: 0s - loss: 0.5193 - binary_accuracy: 0.9856 - recall_5: 0.8552 - precision_5: 0.6748 - iou_score: 0.4915 - f1-score: 0.6077\n",
            "Epoch 50: val_loss did not improve from 0.37482\n",
            "21/21 [==============================] - 11s 530ms/step - loss: 0.5200 - binary_accuracy: 0.9856 - recall_5: 0.8551 - precision_5: 0.6748 - iou_score: 0.4945 - f1-score: 0.6127 - val_loss: 0.5513 - val_binary_accuracy: 0.9740 - val_recall_5: 0.5442 - val_precision_5: 0.8088 - val_iou_score: 0.4090 - val_f1-score: 0.5316 - lr: 1.0000e-04\n",
            "Epoch 51/100\n",
            "20/21 [===========================>..] - ETA: 0s - loss: 0.5130 - binary_accuracy: 0.9860 - recall_5: 0.8434 - precision_5: 0.6878 - iou_score: 0.4931 - f1-score: 0.6120\n",
            "Epoch 51: val_loss did not improve from 0.37482\n",
            "21/21 [==============================] - 11s 531ms/step - loss: 0.5135 - binary_accuracy: 0.9860 - recall_5: 0.8434 - precision_5: 0.6875 - iou_score: 0.4890 - f1-score: 0.6104 - val_loss: 0.3751 - val_binary_accuracy: 0.9802 - val_recall_5: 0.8720 - val_precision_5: 0.7335 - val_iou_score: 0.5884 - val_f1-score: 0.6989 - lr: 1.0000e-04\n",
            "Epoch 52/100\n",
            "20/21 [===========================>..] - ETA: 0s - loss: 0.5006 - binary_accuracy: 0.9862 - recall_5: 0.8665 - precision_5: 0.6855 - iou_score: 0.5066 - f1-score: 0.6282\n",
            "Epoch 52: val_loss did not improve from 0.37482\n",
            "21/21 [==============================] - 11s 530ms/step - loss: 0.5010 - binary_accuracy: 0.9863 - recall_5: 0.8665 - precision_5: 0.6855 - iou_score: 0.5134 - f1-score: 0.6357 - val_loss: 0.3888 - val_binary_accuracy: 0.9792 - val_recall_5: 0.8454 - val_precision_5: 0.7295 - val_iou_score: 0.5743 - val_f1-score: 0.6902 - lr: 1.0000e-04\n",
            "Epoch 53/100\n",
            "20/21 [===========================>..] - ETA: 0s - loss: 0.5008 - binary_accuracy: 0.9866 - recall_5: 0.8747 - precision_5: 0.6906 - iou_score: 0.5111 - f1-score: 0.6320\n",
            "Epoch 53: val_loss did not improve from 0.37482\n",
            "21/21 [==============================] - 11s 532ms/step - loss: 0.5016 - binary_accuracy: 0.9866 - recall_5: 0.8743 - precision_5: 0.6906 - iou_score: 0.5045 - f1-score: 0.6278 - val_loss: 0.3752 - val_binary_accuracy: 0.9805 - val_recall_5: 0.8768 - val_precision_5: 0.7358 - val_iou_score: 0.5856 - val_f1-score: 0.6935 - lr: 1.0000e-04\n",
            "Epoch 54/100\n",
            "20/21 [===========================>..] - ETA: 0s - loss: 0.4928 - binary_accuracy: 0.9862 - recall_5: 0.8553 - precision_5: 0.6874 - iou_score: 0.5076 - f1-score: 0.6244\n",
            "Epoch 54: val_loss did not improve from 0.37482\n",
            "21/21 [==============================] - 11s 531ms/step - loss: 0.4935 - binary_accuracy: 0.9862 - recall_5: 0.8553 - precision_5: 0.6870 - iou_score: 0.5021 - f1-score: 0.6215 - val_loss: 0.3775 - val_binary_accuracy: 0.9795 - val_recall_5: 0.8815 - val_precision_5: 0.7210 - val_iou_score: 0.5807 - val_f1-score: 0.6887 - lr: 1.0000e-04\n",
            "Epoch 55/100\n",
            "20/21 [===========================>..] - ETA: 0s - loss: 0.4870 - binary_accuracy: 0.9866 - recall_5: 0.8829 - precision_5: 0.6889 - iou_score: 0.5096 - f1-score: 0.6294\n",
            "Epoch 55: val_loss did not improve from 0.37482\n",
            "\n",
            "Epoch 55: ReduceLROnPlateau reducing learning rate to 9.999999747378752e-06.\n",
            "21/21 [==============================] - 11s 533ms/step - loss: 0.4877 - binary_accuracy: 0.9867 - recall_5: 0.8827 - precision_5: 0.6890 - iou_score: 0.5155 - f1-score: 0.6364 - val_loss: 0.4397 - val_binary_accuracy: 0.9776 - val_recall_5: 0.7954 - val_precision_5: 0.7267 - val_iou_score: 0.5391 - val_f1-score: 0.6576 - lr: 1.0000e-04\n",
            "Epoch 56/100\n",
            "20/21 [===========================>..] - ETA: 0s - loss: 0.4703 - binary_accuracy: 0.9871 - recall_5: 0.8960 - precision_5: 0.6945 - iou_score: 0.5243 - f1-score: 0.6443\n",
            "Epoch 56: val_loss did not improve from 0.37482\n",
            "21/21 [==============================] - 12s 537ms/step - loss: 0.4706 - binary_accuracy: 0.9871 - recall_5: 0.8959 - precision_5: 0.6945 - iou_score: 0.5298 - f1-score: 0.6508 - val_loss: 0.4096 - val_binary_accuracy: 0.9793 - val_recall_5: 0.8380 - val_precision_5: 0.7349 - val_iou_score: 0.5677 - val_f1-score: 0.6797 - lr: 1.0000e-05\n",
            "Epoch 57/100\n",
            "20/21 [===========================>..] - ETA: 0s - loss: 0.4543 - binary_accuracy: 0.9884 - recall_5: 0.8758 - precision_5: 0.7314 - iou_score: 0.5454 - f1-score: 0.6654\n",
            "Epoch 57: val_loss did not improve from 0.37482\n",
            "21/21 [==============================] - 12s 540ms/step - loss: 0.4546 - binary_accuracy: 0.9885 - recall_5: 0.8758 - precision_5: 0.7314 - iou_score: 0.5495 - f1-score: 0.6705 - val_loss: 0.4195 - val_binary_accuracy: 0.9787 - val_recall_5: 0.8072 - val_precision_5: 0.7383 - val_iou_score: 0.5535 - val_f1-score: 0.6670 - lr: 1.0000e-05\n",
            "Epoch 58/100\n",
            "20/21 [===========================>..] - ETA: 0s - loss: 0.4467 - binary_accuracy: 0.9889 - recall_5: 0.8669 - precision_5: 0.7454 - iou_score: 0.5528 - f1-score: 0.6732\n",
            "Epoch 58: val_loss did not improve from 0.37482\n",
            "21/21 [==============================] - 11s 533ms/step - loss: 0.4470 - binary_accuracy: 0.9889 - recall_5: 0.8669 - precision_5: 0.7453 - iou_score: 0.5567 - f1-score: 0.6781 - val_loss: 0.4468 - val_binary_accuracy: 0.9775 - val_recall_5: 0.7672 - val_precision_5: 0.7382 - val_iou_score: 0.5308 - val_f1-score: 0.6467 - lr: 1.0000e-05\n",
            "Epoch 59/100\n",
            "20/21 [===========================>..] - ETA: 0s - loss: 0.4400 - binary_accuracy: 0.9895 - recall_5: 0.8598 - precision_5: 0.7637 - iou_score: 0.5616 - f1-score: 0.6828\n",
            "Epoch 59: val_loss did not improve from 0.37482\n",
            "21/21 [==============================] - 11s 535ms/step - loss: 0.4402 - binary_accuracy: 0.9895 - recall_5: 0.8598 - precision_5: 0.7637 - iou_score: 0.5654 - f1-score: 0.6876 - val_loss: 0.4616 - val_binary_accuracy: 0.9757 - val_recall_5: 0.7182 - val_precision_5: 0.7312 - val_iou_score: 0.4984 - val_f1-score: 0.6185 - lr: 1.0000e-05\n",
            "Epoch 60/100\n",
            "20/21 [===========================>..] - ETA: 0s - loss: 0.4290 - binary_accuracy: 0.9907 - recall_5: 0.8660 - precision_5: 0.7944 - iou_score: 0.5893 - f1-score: 0.7064\n",
            "Epoch 60: val_loss did not improve from 0.37482\n",
            "21/21 [==============================] - 11s 532ms/step - loss: 0.4293 - binary_accuracy: 0.9907 - recall_5: 0.8660 - precision_5: 0.7943 - iou_score: 0.5923 - f1-score: 0.7103 - val_loss: 0.4797 - val_binary_accuracy: 0.9733 - val_recall_5: 0.6392 - val_precision_5: 0.7288 - val_iou_score: 0.4445 - val_f1-score: 0.5708 - lr: 1.0000e-05\n",
            "Epoch 61/100\n",
            "20/21 [===========================>..] - ETA: 0s - loss: 0.4219 - binary_accuracy: 0.9910 - recall_5: 0.8680 - precision_5: 0.8027 - iou_score: 0.5999 - f1-score: 0.7141\n",
            "Epoch 61: val_loss did not improve from 0.37482\n",
            "21/21 [==============================] - 11s 532ms/step - loss: 0.4222 - binary_accuracy: 0.9911 - recall_5: 0.8680 - precision_5: 0.8027 - iou_score: 0.6030 - f1-score: 0.7180 - val_loss: 0.4445 - val_binary_accuracy: 0.9766 - val_recall_5: 0.7513 - val_precision_5: 0.7308 - val_iou_score: 0.5168 - val_f1-score: 0.6368 - lr: 1.0000e-05\n",
            "Epoch 62/100\n",
            "20/21 [===========================>..] - ETA: 0s - loss: 0.4183 - binary_accuracy: 0.9912 - recall_5: 0.8663 - precision_5: 0.8076 - iou_score: 0.6037 - f1-score: 0.7180\n",
            "Epoch 62: val_loss did not improve from 0.37482\n",
            "21/21 [==============================] - 11s 530ms/step - loss: 0.4186 - binary_accuracy: 0.9912 - recall_5: 0.8663 - precision_5: 0.8075 - iou_score: 0.6071 - f1-score: 0.7222 - val_loss: 0.4745 - val_binary_accuracy: 0.9734 - val_recall_5: 0.6433 - val_precision_5: 0.7271 - val_iou_score: 0.4473 - val_f1-score: 0.5771 - lr: 1.0000e-05\n",
            "Epoch 63/100\n",
            "20/21 [===========================>..] - ETA: 0s - loss: 0.4130 - binary_accuracy: 0.9914 - recall_5: 0.8712 - precision_5: 0.8122 - iou_score: 0.6102 - f1-score: 0.7223\n",
            "Epoch 63: val_loss did not improve from 0.37482\n",
            "21/21 [==============================] - 11s 530ms/step - loss: 0.4133 - binary_accuracy: 0.9915 - recall_5: 0.8712 - precision_5: 0.8122 - iou_score: 0.6135 - f1-score: 0.7264 - val_loss: 0.4939 - val_binary_accuracy: 0.9711 - val_recall_5: 0.5772 - val_precision_5: 0.7177 - val_iou_score: 0.4001 - val_f1-score: 0.5301 - lr: 1.0000e-05\n",
            "Epoch 64/100\n",
            "20/21 [===========================>..] - ETA: 0s - loss: 0.4112 - binary_accuracy: 0.9915 - recall_5: 0.8705 - precision_5: 0.8144 - iou_score: 0.6125 - f1-score: 0.7240\n",
            "Epoch 64: val_loss did not improve from 0.37482\n",
            "21/21 [==============================] - 11s 530ms/step - loss: 0.4115 - binary_accuracy: 0.9915 - recall_5: 0.8705 - precision_5: 0.8143 - iou_score: 0.6159 - f1-score: 0.7282 - val_loss: 0.4317 - val_binary_accuracy: 0.9771 - val_recall_5: 0.7667 - val_precision_5: 0.7318 - val_iou_score: 0.5262 - val_f1-score: 0.6469 - lr: 1.0000e-05\n",
            "Epoch 65/100\n",
            "20/21 [===========================>..] - ETA: 0s - loss: 0.4072 - binary_accuracy: 0.9916 - recall_5: 0.8684 - precision_5: 0.8199 - iou_score: 0.6173 - f1-score: 0.7294\n",
            "Epoch 65: val_loss did not improve from 0.37482\n",
            "\n",
            "Epoch 65: ReduceLROnPlateau reducing learning rate to 9.999999747378752e-07.\n",
            "21/21 [==============================] - 11s 531ms/step - loss: 0.4075 - binary_accuracy: 0.9917 - recall_5: 0.8684 - precision_5: 0.8198 - iou_score: 0.6209 - f1-score: 0.7337 - val_loss: 0.5213 - val_binary_accuracy: 0.9686 - val_recall_5: 0.5085 - val_precision_5: 0.7050 - val_iou_score: 0.3506 - val_f1-score: 0.4729 - lr: 1.0000e-05\n",
            "Epoch 66/100\n",
            "20/21 [===========================>..] - ETA: 0s - loss: 0.4032 - binary_accuracy: 0.9919 - recall_5: 0.8687 - precision_5: 0.8269 - iou_score: 0.6225 - f1-score: 0.7341\n",
            "Epoch 66: val_loss did not improve from 0.37482\n",
            "21/21 [==============================] - 11s 531ms/step - loss: 0.4035 - binary_accuracy: 0.9919 - recall_5: 0.8687 - precision_5: 0.8268 - iou_score: 0.6260 - f1-score: 0.7383 - val_loss: 0.5066 - val_binary_accuracy: 0.9697 - val_recall_5: 0.5387 - val_precision_5: 0.7101 - val_iou_score: 0.3726 - val_f1-score: 0.4995 - lr: 1.0000e-06\n",
            "Epoch 67/100\n",
            "20/21 [===========================>..] - ETA: 0s - loss: 0.4026 - binary_accuracy: 0.9919 - recall_5: 0.8711 - precision_5: 0.8254 - iou_score: 0.6235 - f1-score: 0.7346\n",
            "Epoch 67: val_loss did not improve from 0.37482\n",
            "21/21 [==============================] - 11s 532ms/step - loss: 0.4028 - binary_accuracy: 0.9919 - recall_5: 0.8711 - precision_5: 0.8253 - iou_score: 0.6269 - f1-score: 0.7386 - val_loss: 0.4940 - val_binary_accuracy: 0.9711 - val_recall_5: 0.5781 - val_precision_5: 0.7177 - val_iou_score: 0.4015 - val_f1-score: 0.5319 - lr: 1.0000e-06\n",
            "Epoch 68/100\n",
            "20/21 [===========================>..] - ETA: 0s - loss: 0.4021 - binary_accuracy: 0.9919 - recall_5: 0.8722 - precision_5: 0.8247 - iou_score: 0.6243 - f1-score: 0.7349\n",
            "Epoch 68: val_loss did not improve from 0.37482\n",
            "21/21 [==============================] - 12s 542ms/step - loss: 0.4024 - binary_accuracy: 0.9919 - recall_5: 0.8722 - precision_5: 0.8247 - iou_score: 0.6276 - f1-score: 0.7390 - val_loss: 0.4876 - val_binary_accuracy: 0.9719 - val_recall_5: 0.6000 - val_precision_5: 0.7215 - val_iou_score: 0.4171 - val_f1-score: 0.5483 - lr: 1.0000e-06\n",
            "Epoch 69/100\n",
            "20/21 [===========================>..] - ETA: 0s - loss: 0.4017 - binary_accuracy: 0.9919 - recall_5: 0.8727 - precision_5: 0.8246 - iou_score: 0.6248 - f1-score: 0.7353\n",
            "Epoch 69: val_loss did not improve from 0.37482\n",
            "21/21 [==============================] - 11s 535ms/step - loss: 0.4020 - binary_accuracy: 0.9919 - recall_5: 0.8727 - precision_5: 0.8246 - iou_score: 0.6281 - f1-score: 0.7393 - val_loss: 0.4845 - val_binary_accuracy: 0.9723 - val_recall_5: 0.6110 - val_precision_5: 0.7234 - val_iou_score: 0.4250 - val_f1-score: 0.5562 - lr: 1.0000e-06\n",
            "Epoch 70/100\n",
            "20/21 [===========================>..] - ETA: 0s - loss: 0.4014 - binary_accuracy: 0.9919 - recall_5: 0.8729 - precision_5: 0.8248 - iou_score: 0.6251 - f1-score: 0.7356\n",
            "Epoch 70: val_loss did not improve from 0.37482\n",
            "21/21 [==============================] - 12s 537ms/step - loss: 0.4017 - binary_accuracy: 0.9919 - recall_5: 0.8729 - precision_5: 0.8247 - iou_score: 0.6285 - f1-score: 0.7396 - val_loss: 0.4833 - val_binary_accuracy: 0.9724 - val_recall_5: 0.6152 - val_precision_5: 0.7242 - val_iou_score: 0.4279 - val_f1-score: 0.5592 - lr: 1.0000e-06\n",
            "Epoch 71/100\n",
            "20/21 [===========================>..] - ETA: 0s - loss: 0.4011 - binary_accuracy: 0.9919 - recall_5: 0.8729 - precision_5: 0.8250 - iou_score: 0.6255 - f1-score: 0.7358\n",
            "Epoch 71: val_loss did not improve from 0.37482\n",
            "21/21 [==============================] - 11s 534ms/step - loss: 0.4014 - binary_accuracy: 0.9919 - recall_5: 0.8729 - precision_5: 0.8249 - iou_score: 0.6288 - f1-score: 0.7399 - val_loss: 0.4825 - val_binary_accuracy: 0.9725 - val_recall_5: 0.6179 - val_precision_5: 0.7249 - val_iou_score: 0.4299 - val_f1-score: 0.5612 - lr: 1.0000e-06\n",
            "Epoch 72/100\n",
            "20/21 [===========================>..] - ETA: 0s - loss: 0.4008 - binary_accuracy: 0.9919 - recall_5: 0.8730 - precision_5: 0.8252 - iou_score: 0.6258 - f1-score: 0.7361\n",
            "Epoch 72: val_loss did not improve from 0.37482\n",
            "21/21 [==============================] - 11s 535ms/step - loss: 0.4011 - binary_accuracy: 0.9919 - recall_5: 0.8730 - precision_5: 0.8252 - iou_score: 0.6292 - f1-score: 0.7402 - val_loss: 0.4818 - val_binary_accuracy: 0.9726 - val_recall_5: 0.6201 - val_precision_5: 0.7253 - val_iou_score: 0.4315 - val_f1-score: 0.5628 - lr: 1.0000e-06\n",
            "Epoch 73/100\n",
            "20/21 [===========================>..] - ETA: 0s - loss: 0.4005 - binary_accuracy: 0.9919 - recall_5: 0.8730 - precision_5: 0.8254 - iou_score: 0.6261 - f1-score: 0.7364\n",
            "Epoch 73: val_loss did not improve from 0.37482\n",
            "21/21 [==============================] - 11s 531ms/step - loss: 0.4008 - binary_accuracy: 0.9919 - recall_5: 0.8730 - precision_5: 0.8254 - iou_score: 0.6295 - f1-score: 0.7405 - val_loss: 0.4813 - val_binary_accuracy: 0.9727 - val_recall_5: 0.6217 - val_precision_5: 0.7257 - val_iou_score: 0.4326 - val_f1-score: 0.5639 - lr: 1.0000e-06\n",
            "Epoch 74/100\n",
            "20/21 [===========================>..] - ETA: 0s - loss: 0.4002 - binary_accuracy: 0.9919 - recall_5: 0.8731 - precision_5: 0.8257 - iou_score: 0.6265 - f1-score: 0.7367\n",
            "Epoch 74: val_loss did not improve from 0.37482\n",
            "21/21 [==============================] - 11s 532ms/step - loss: 0.4005 - binary_accuracy: 0.9919 - recall_5: 0.8731 - precision_5: 0.8256 - iou_score: 0.6299 - f1-score: 0.7408 - val_loss: 0.4809 - val_binary_accuracy: 0.9727 - val_recall_5: 0.6229 - val_precision_5: 0.7259 - val_iou_score: 0.4334 - val_f1-score: 0.5648 - lr: 1.0000e-06\n",
            "Epoch 75/100\n",
            "20/21 [===========================>..] - ETA: 0s - loss: 0.4000 - binary_accuracy: 0.9919 - recall_5: 0.8732 - precision_5: 0.8259 - iou_score: 0.6268 - f1-score: 0.7370\n",
            "Epoch 75: val_loss did not improve from 0.37482\n",
            "\n",
            "Epoch 75: ReduceLROnPlateau reducing learning rate to 1e-07.\n",
            "21/21 [==============================] - 11s 531ms/step - loss: 0.4002 - binary_accuracy: 0.9920 - recall_5: 0.8732 - precision_5: 0.8259 - iou_score: 0.6303 - f1-score: 0.7411 - val_loss: 0.4808 - val_binary_accuracy: 0.9728 - val_recall_5: 0.6232 - val_precision_5: 0.7260 - val_iou_score: 0.4336 - val_f1-score: 0.5650 - lr: 1.0000e-06\n",
            "Epoch 76/100\n",
            "20/21 [===========================>..] - ETA: 0s - loss: 0.3996 - binary_accuracy: 0.9920 - recall_5: 0.8733 - precision_5: 0.8263 - iou_score: 0.6274 - f1-score: 0.7375\n",
            "Epoch 76: val_loss did not improve from 0.37482\n",
            "21/21 [==============================] - 11s 531ms/step - loss: 0.3998 - binary_accuracy: 0.9920 - recall_5: 0.8733 - precision_5: 0.8263 - iou_score: 0.6309 - f1-score: 0.7416 - val_loss: 0.4800 - val_binary_accuracy: 0.9728 - val_recall_5: 0.6254 - val_precision_5: 0.7265 - val_iou_score: 0.4352 - val_f1-score: 0.5666 - lr: 1.0000e-07\n",
            "Epoch 77/100\n",
            "20/21 [===========================>..] - ETA: 0s - loss: 0.3995 - binary_accuracy: 0.9920 - recall_5: 0.8733 - precision_5: 0.8264 - iou_score: 0.6275 - f1-score: 0.7376\n",
            "Epoch 77: val_loss did not improve from 0.37482\n",
            "21/21 [==============================] - 11s 533ms/step - loss: 0.3998 - binary_accuracy: 0.9920 - recall_5: 0.8733 - precision_5: 0.8263 - iou_score: 0.6309 - f1-score: 0.7417 - val_loss: 0.4793 - val_binary_accuracy: 0.9729 - val_recall_5: 0.6273 - val_precision_5: 0.7269 - val_iou_score: 0.4366 - val_f1-score: 0.5680 - lr: 1.0000e-07\n",
            "Epoch 78/100\n",
            "20/21 [===========================>..] - ETA: 0s - loss: 0.3995 - binary_accuracy: 0.9920 - recall_5: 0.8733 - precision_5: 0.8264 - iou_score: 0.6275 - f1-score: 0.7376\n",
            "Epoch 78: val_loss did not improve from 0.37482\n",
            "21/21 [==============================] - 12s 541ms/step - loss: 0.3998 - binary_accuracy: 0.9920 - recall_5: 0.8733 - precision_5: 0.8263 - iou_score: 0.6310 - f1-score: 0.7417 - val_loss: 0.4788 - val_binary_accuracy: 0.9730 - val_recall_5: 0.6285 - val_precision_5: 0.7270 - val_iou_score: 0.4374 - val_f1-score: 0.5688 - lr: 1.0000e-07\n",
            "Epoch 79/100\n",
            "20/21 [===========================>..] - ETA: 0s - loss: 0.3995 - binary_accuracy: 0.9920 - recall_5: 0.8733 - precision_5: 0.8264 - iou_score: 0.6275 - f1-score: 0.7376\n",
            "Epoch 79: val_loss did not improve from 0.37482\n",
            "21/21 [==============================] - 11s 533ms/step - loss: 0.3998 - binary_accuracy: 0.9920 - recall_5: 0.8733 - precision_5: 0.8264 - iou_score: 0.6310 - f1-score: 0.7417 - val_loss: 0.4784 - val_binary_accuracy: 0.9730 - val_recall_5: 0.6295 - val_precision_5: 0.7272 - val_iou_score: 0.4381 - val_f1-score: 0.5695 - lr: 1.0000e-07\n",
            "Epoch 80/100\n",
            "20/21 [===========================>..] - ETA: 0s - loss: 0.3995 - binary_accuracy: 0.9920 - recall_5: 0.8733 - precision_5: 0.8264 - iou_score: 0.6276 - f1-score: 0.7376\n",
            "Epoch 80: val_loss did not improve from 0.37482\n",
            "21/21 [==============================] - 11s 532ms/step - loss: 0.3997 - binary_accuracy: 0.9920 - recall_5: 0.8733 - precision_5: 0.8264 - iou_score: 0.6310 - f1-score: 0.7417 - val_loss: 0.4780 - val_binary_accuracy: 0.9730 - val_recall_5: 0.6307 - val_precision_5: 0.7275 - val_iou_score: 0.4390 - val_f1-score: 0.5703 - lr: 1.0000e-07\n",
            "Epoch 81/100\n",
            "20/21 [===========================>..] - ETA: 0s - loss: 0.3994 - binary_accuracy: 0.9920 - recall_5: 0.8733 - precision_5: 0.8264 - iou_score: 0.6276 - f1-score: 0.7377\n",
            "Epoch 81: val_loss did not improve from 0.37482\n",
            "21/21 [==============================] - 11s 533ms/step - loss: 0.3997 - binary_accuracy: 0.9920 - recall_5: 0.8733 - precision_5: 0.8264 - iou_score: 0.6311 - f1-score: 0.7418 - val_loss: 0.4777 - val_binary_accuracy: 0.9731 - val_recall_5: 0.6312 - val_precision_5: 0.7276 - val_iou_score: 0.4394 - val_f1-score: 0.5707 - lr: 1.0000e-07\n",
            "Epoch 82/100\n",
            "20/21 [===========================>..] - ETA: 0s - loss: 0.3994 - binary_accuracy: 0.9920 - recall_5: 0.8734 - precision_5: 0.8265 - iou_score: 0.6276 - f1-score: 0.7377\n",
            "Epoch 82: val_loss did not improve from 0.37482\n",
            "21/21 [==============================] - 11s 533ms/step - loss: 0.3997 - binary_accuracy: 0.9920 - recall_5: 0.8734 - precision_5: 0.8264 - iou_score: 0.6311 - f1-score: 0.7418 - val_loss: 0.4774 - val_binary_accuracy: 0.9731 - val_recall_5: 0.6320 - val_precision_5: 0.7277 - val_iou_score: 0.4399 - val_f1-score: 0.5713 - lr: 1.0000e-07\n",
            "Epoch 83/100\n",
            "20/21 [===========================>..] - ETA: 0s - loss: 0.3994 - binary_accuracy: 0.9920 - recall_5: 0.8734 - precision_5: 0.8265 - iou_score: 0.6277 - f1-score: 0.7377\n",
            "Epoch 83: val_loss did not improve from 0.37482\n",
            "21/21 [==============================] - 11s 534ms/step - loss: 0.3997 - binary_accuracy: 0.9920 - recall_5: 0.8734 - precision_5: 0.8264 - iou_score: 0.6311 - f1-score: 0.7418 - val_loss: 0.4773 - val_binary_accuracy: 0.9731 - val_recall_5: 0.6325 - val_precision_5: 0.7278 - val_iou_score: 0.4403 - val_f1-score: 0.5716 - lr: 1.0000e-07\n",
            "Epoch 84/100\n",
            "20/21 [===========================>..] - ETA: 0s - loss: 0.3993 - binary_accuracy: 0.9920 - recall_5: 0.8734 - precision_5: 0.8265 - iou_score: 0.6277 - f1-score: 0.7378\n",
            "Epoch 84: val_loss did not improve from 0.37482\n",
            "21/21 [==============================] - 12s 536ms/step - loss: 0.3996 - binary_accuracy: 0.9920 - recall_5: 0.8734 - precision_5: 0.8265 - iou_score: 0.6312 - f1-score: 0.7419 - val_loss: 0.4770 - val_binary_accuracy: 0.9731 - val_recall_5: 0.6331 - val_precision_5: 0.7280 - val_iou_score: 0.4407 - val_f1-score: 0.5720 - lr: 1.0000e-07\n",
            "Epoch 85/100\n",
            "20/21 [===========================>..] - ETA: 0s - loss: 0.3993 - binary_accuracy: 0.9920 - recall_5: 0.8734 - precision_5: 0.8265 - iou_score: 0.6277 - f1-score: 0.7378\n",
            "Epoch 85: val_loss did not improve from 0.37482\n",
            "21/21 [==============================] - 11s 532ms/step - loss: 0.3996 - binary_accuracy: 0.9920 - recall_5: 0.8734 - precision_5: 0.8265 - iou_score: 0.6312 - f1-score: 0.7419 - val_loss: 0.4769 - val_binary_accuracy: 0.9731 - val_recall_5: 0.6335 - val_precision_5: 0.7280 - val_iou_score: 0.4409 - val_f1-score: 0.5723 - lr: 1.0000e-07\n",
            "Epoch 86/100\n",
            "20/21 [===========================>..] - ETA: 0s - loss: 0.3993 - binary_accuracy: 0.9920 - recall_5: 0.8734 - precision_5: 0.8266 - iou_score: 0.6277 - f1-score: 0.7378\n",
            "Epoch 86: val_loss did not improve from 0.37482\n",
            "21/21 [==============================] - 11s 534ms/step - loss: 0.3996 - binary_accuracy: 0.9920 - recall_5: 0.8734 - precision_5: 0.8265 - iou_score: 0.6312 - f1-score: 0.7419 - val_loss: 0.4767 - val_binary_accuracy: 0.9732 - val_recall_5: 0.6338 - val_precision_5: 0.7281 - val_iou_score: 0.4412 - val_f1-score: 0.5725 - lr: 1.0000e-07\n",
            "Epoch 87/100\n",
            "20/21 [===========================>..] - ETA: 0s - loss: 0.3993 - binary_accuracy: 0.9920 - recall_5: 0.8734 - precision_5: 0.8266 - iou_score: 0.6278 - f1-score: 0.7378\n",
            "Epoch 87: val_loss did not improve from 0.37482\n",
            "21/21 [==============================] - 11s 532ms/step - loss: 0.3995 - binary_accuracy: 0.9920 - recall_5: 0.8734 - precision_5: 0.8265 - iou_score: 0.6312 - f1-score: 0.7419 - val_loss: 0.4766 - val_binary_accuracy: 0.9732 - val_recall_5: 0.6341 - val_precision_5: 0.7281 - val_iou_score: 0.4413 - val_f1-score: 0.5727 - lr: 1.0000e-07\n",
            "Epoch 88/100\n",
            "20/21 [===========================>..] - ETA: 0s - loss: 0.3992 - binary_accuracy: 0.9920 - recall_5: 0.8734 - precision_5: 0.8266 - iou_score: 0.6278 - f1-score: 0.7379\n",
            "Epoch 88: val_loss did not improve from 0.37482\n",
            "21/21 [==============================] - 11s 533ms/step - loss: 0.3995 - binary_accuracy: 0.9920 - recall_5: 0.8734 - precision_5: 0.8266 - iou_score: 0.6313 - f1-score: 0.7420 - val_loss: 0.4765 - val_binary_accuracy: 0.9732 - val_recall_5: 0.6343 - val_precision_5: 0.7281 - val_iou_score: 0.4415 - val_f1-score: 0.5729 - lr: 1.0000e-07\n",
            "Epoch 89/100\n",
            "20/21 [===========================>..] - ETA: 0s - loss: 0.3992 - binary_accuracy: 0.9920 - recall_5: 0.8734 - precision_5: 0.8266 - iou_score: 0.6278 - f1-score: 0.7379\n",
            "Epoch 89: val_loss did not improve from 0.37482\n",
            "21/21 [==============================] - 12s 539ms/step - loss: 0.3995 - binary_accuracy: 0.9920 - recall_5: 0.8734 - precision_5: 0.8266 - iou_score: 0.6313 - f1-score: 0.7420 - val_loss: 0.4764 - val_binary_accuracy: 0.9732 - val_recall_5: 0.6348 - val_precision_5: 0.7282 - val_iou_score: 0.4418 - val_f1-score: 0.5732 - lr: 1.0000e-07\n",
            "Epoch 90/100\n",
            "20/21 [===========================>..] - ETA: 0s - loss: 0.3992 - binary_accuracy: 0.9920 - recall_5: 0.8734 - precision_5: 0.8266 - iou_score: 0.6279 - f1-score: 0.7379\n",
            "Epoch 90: val_loss did not improve from 0.37482\n",
            "21/21 [==============================] - 11s 530ms/step - loss: 0.3995 - binary_accuracy: 0.9920 - recall_5: 0.8734 - precision_5: 0.8266 - iou_score: 0.6314 - f1-score: 0.7420 - val_loss: 0.4762 - val_binary_accuracy: 0.9732 - val_recall_5: 0.6353 - val_precision_5: 0.7282 - val_iou_score: 0.4421 - val_f1-score: 0.5734 - lr: 1.0000e-07\n",
            "Epoch 91/100\n",
            "20/21 [===========================>..] - ETA: 0s - loss: 0.3992 - binary_accuracy: 0.9920 - recall_5: 0.8734 - precision_5: 0.8267 - iou_score: 0.6279 - f1-score: 0.7379\n",
            "Epoch 91: val_loss did not improve from 0.37482\n",
            "21/21 [==============================] - 11s 532ms/step - loss: 0.3994 - binary_accuracy: 0.9920 - recall_5: 0.8735 - precision_5: 0.8266 - iou_score: 0.6314 - f1-score: 0.7421 - val_loss: 0.4761 - val_binary_accuracy: 0.9732 - val_recall_5: 0.6354 - val_precision_5: 0.7282 - val_iou_score: 0.4422 - val_f1-score: 0.5736 - lr: 1.0000e-07\n",
            "Epoch 92/100\n",
            "20/21 [===========================>..] - ETA: 0s - loss: 0.3991 - binary_accuracy: 0.9920 - recall_5: 0.8735 - precision_5: 0.8267 - iou_score: 0.6279 - f1-score: 0.7380\n",
            "Epoch 92: val_loss did not improve from 0.37482\n",
            "21/21 [==============================] - 11s 529ms/step - loss: 0.3994 - binary_accuracy: 0.9920 - recall_5: 0.8735 - precision_5: 0.8266 - iou_score: 0.6314 - f1-score: 0.7421 - val_loss: 0.4760 - val_binary_accuracy: 0.9732 - val_recall_5: 0.6358 - val_precision_5: 0.7282 - val_iou_score: 0.4424 - val_f1-score: 0.5738 - lr: 1.0000e-07\n",
            "Epoch 93/100\n",
            "20/21 [===========================>..] - ETA: 0s - loss: 0.3991 - binary_accuracy: 0.9920 - recall_5: 0.8735 - precision_5: 0.8267 - iou_score: 0.6280 - f1-score: 0.7380\n",
            "Epoch 93: val_loss did not improve from 0.37482\n",
            "21/21 [==============================] - 11s 533ms/step - loss: 0.3994 - binary_accuracy: 0.9920 - recall_5: 0.8735 - precision_5: 0.8267 - iou_score: 0.6315 - f1-score: 0.7421 - val_loss: 0.4759 - val_binary_accuracy: 0.9732 - val_recall_5: 0.6361 - val_precision_5: 0.7282 - val_iou_score: 0.4427 - val_f1-score: 0.5740 - lr: 1.0000e-07\n",
            "Epoch 94/100\n",
            "20/21 [===========================>..] - ETA: 0s - loss: 0.3991 - binary_accuracy: 0.9920 - recall_5: 0.8735 - precision_5: 0.8267 - iou_score: 0.6280 - f1-score: 0.7380\n",
            "Epoch 94: val_loss did not improve from 0.37482\n",
            "21/21 [==============================] - 11s 533ms/step - loss: 0.3993 - binary_accuracy: 0.9920 - recall_5: 0.8735 - precision_5: 0.8267 - iou_score: 0.6315 - f1-score: 0.7421 - val_loss: 0.4758 - val_binary_accuracy: 0.9732 - val_recall_5: 0.6364 - val_precision_5: 0.7283 - val_iou_score: 0.4429 - val_f1-score: 0.5742 - lr: 1.0000e-07\n",
            "Epoch 95/100\n",
            "20/21 [===========================>..] - ETA: 0s - loss: 0.3990 - binary_accuracy: 0.9920 - recall_5: 0.8735 - precision_5: 0.8267 - iou_score: 0.6280 - f1-score: 0.7380\n",
            "Epoch 95: val_loss did not improve from 0.37482\n",
            "21/21 [==============================] - 11s 535ms/step - loss: 0.3993 - binary_accuracy: 0.9920 - recall_5: 0.8735 - precision_5: 0.8267 - iou_score: 0.6315 - f1-score: 0.7422 - val_loss: 0.4757 - val_binary_accuracy: 0.9733 - val_recall_5: 0.6368 - val_precision_5: 0.7283 - val_iou_score: 0.4431 - val_f1-score: 0.5745 - lr: 1.0000e-07\n",
            "Epoch 96/100\n",
            "20/21 [===========================>..] - ETA: 0s - loss: 0.3990 - binary_accuracy: 0.9920 - recall_5: 0.8735 - precision_5: 0.8268 - iou_score: 0.6281 - f1-score: 0.7381\n",
            "Epoch 96: val_loss did not improve from 0.37482\n",
            "21/21 [==============================] - 11s 534ms/step - loss: 0.3993 - binary_accuracy: 0.9920 - recall_5: 0.8735 - precision_5: 0.8267 - iou_score: 0.6316 - f1-score: 0.7422 - val_loss: 0.4756 - val_binary_accuracy: 0.9733 - val_recall_5: 0.6370 - val_precision_5: 0.7284 - val_iou_score: 0.4433 - val_f1-score: 0.5746 - lr: 1.0000e-07\n",
            "Epoch 97/100\n",
            "20/21 [===========================>..] - ETA: 0s - loss: 0.3990 - binary_accuracy: 0.9920 - recall_5: 0.8735 - precision_5: 0.8268 - iou_score: 0.6281 - f1-score: 0.7381\n",
            "Epoch 97: val_loss did not improve from 0.37482\n",
            "21/21 [==============================] - 11s 534ms/step - loss: 0.3993 - binary_accuracy: 0.9920 - recall_5: 0.8735 - precision_5: 0.8267 - iou_score: 0.6316 - f1-score: 0.7423 - val_loss: 0.4755 - val_binary_accuracy: 0.9733 - val_recall_5: 0.6371 - val_precision_5: 0.7284 - val_iou_score: 0.4434 - val_f1-score: 0.5747 - lr: 1.0000e-07\n",
            "Epoch 98/100\n",
            "20/21 [===========================>..] - ETA: 0s - loss: 0.3990 - binary_accuracy: 0.9920 - recall_5: 0.8735 - precision_5: 0.8268 - iou_score: 0.6281 - f1-score: 0.7381\n",
            "Epoch 98: val_loss did not improve from 0.37482\n",
            "21/21 [==============================] - 12s 536ms/step - loss: 0.3992 - binary_accuracy: 0.9920 - recall_5: 0.8735 - precision_5: 0.8268 - iou_score: 0.6317 - f1-score: 0.7423 - val_loss: 0.4755 - val_binary_accuracy: 0.9733 - val_recall_5: 0.6371 - val_precision_5: 0.7284 - val_iou_score: 0.4433 - val_f1-score: 0.5747 - lr: 1.0000e-07\n",
            "Epoch 99/100\n",
            "20/21 [===========================>..] - ETA: 0s - loss: 0.3989 - binary_accuracy: 0.9920 - recall_5: 0.8735 - precision_5: 0.8268 - iou_score: 0.6282 - f1-score: 0.7382\n",
            "Epoch 99: val_loss did not improve from 0.37482\n",
            "21/21 [==============================] - 12s 537ms/step - loss: 0.3992 - binary_accuracy: 0.9920 - recall_5: 0.8735 - precision_5: 0.8268 - iou_score: 0.6317 - f1-score: 0.7423 - val_loss: 0.4755 - val_binary_accuracy: 0.9733 - val_recall_5: 0.6372 - val_precision_5: 0.7284 - val_iou_score: 0.4434 - val_f1-score: 0.5747 - lr: 1.0000e-07\n",
            "Epoch 100/100\n",
            "20/21 [===========================>..] - ETA: 0s - loss: 0.3989 - binary_accuracy: 0.9920 - recall_5: 0.8735 - precision_5: 0.8268 - iou_score: 0.6282 - f1-score: 0.7382\n",
            "Epoch 100: val_loss did not improve from 0.37482\n",
            "21/21 [==============================] - 11s 530ms/step - loss: 0.3992 - binary_accuracy: 0.9920 - recall_5: 0.8736 - precision_5: 0.8268 - iou_score: 0.6317 - f1-score: 0.7423 - val_loss: 0.4754 - val_binary_accuracy: 0.9733 - val_recall_5: 0.6374 - val_precision_5: 0.7284 - val_iou_score: 0.4435 - val_f1-score: 0.5749 - lr: 1.0000e-07\n"
          ]
        }
      ],
      "source": [
        "history = model.fit(\n",
        "   train_dataset,\n",
        "   epochs=100,\n",
        "   validation_data=val_dataset,\n",
        "   shuffle=True,\n",
        "   callbacks=callbacks,\n",
        ")"
      ]
    },
    {
      "cell_type": "markdown",
      "metadata": {
        "id": "r5Pieo7aoxE0"
      },
      "source": [
        "# Testing"
      ]
    },
    {
      "cell_type": "code",
      "execution_count": 43,
      "metadata": {
        "colab": {
          "base_uri": "https://localhost:8080/"
        },
        "id": "0A_aN6m6oyei",
        "outputId": "c884b591-4c98-4593-fa0d-2feaf3c44914"
      },
      "outputs": [
        {
          "name": "stderr",
          "output_type": "stream",
          "text": [
            "/usr/local/lib/python3.10/dist-packages/rasterio/__init__.py:304: NotGeoreferencedWarning: Dataset has no geotransform, gcps, or rpcs. The identity matrix will be returned.\n",
            "  dataset = DatasetReader(path, driver=driver, sharing=sharing, **kwargs)\n"
          ]
        },
        {
          "name": "stdout",
          "output_type": "stream",
          "text": [
            "21/21 [==============================] - 8s 359ms/step\n",
            "Dataset: train\n",
            "Accuracy: 0.9853617548942566\n",
            "Precision: 0.6914209723472595\n",
            "Recall: 0.7840425968170166\n",
            "F1-score: 0.7348246574401855\n",
            "IoU: 0.5808085203170776\n",
            "7/7 [==============================] - 2s 349ms/step\n",
            "Dataset: val\n",
            "Accuracy: 0.9799149632453918\n",
            "Precision: 0.7251718044281006\n",
            "Recall: 0.8838037848472595\n",
            "F1-score: 0.7966678738594055\n",
            "IoU: 0.6620515584945679\n",
            "7/7 [==============================] - 2s 339ms/step\n",
            "Dataset: test\n",
            "Accuracy: 0.9815688133239746\n",
            "Precision: 0.7791650295257568\n",
            "Recall: 0.905097246170044\n",
            "F1-score: 0.8374231457710266\n",
            "IoU: 0.7203164100646973\n"
          ]
        }
      ],
      "source": [
        "with CustomObjectScope({'dice_loss_plus_1binary_focal_loss':total_loss, 'iou_score':sm.metrics.IOUScore(threshold=0.5), 'f1-score':sm.metrics.FScore(threshold=0.5)}):\n",
        "    model = tf.keras.models.load_model(f\"model_{str(PATCH_SIZE)}.h5\")\n",
        "\n",
        "datasets = {\"train\":train_dataset, \"val\":val_dataset, \"test\":test_dataset}\n",
        "\n",
        "images = []\n",
        "labels = []\n",
        "predictions = []\n",
        "\n",
        "results = pd.DataFrame(columns=['metrics', 'train', 'val', 'test'])\n",
        "results['metrics'] = ['Accuracy', 'Precision', 'Recall', 'F1-Score', 'IoU']\n",
        "\n",
        "for k in datasets.keys():\n",
        "    predictions = model.predict(datasets[k])\n",
        "    images = np.concatenate([x for x, y in datasets[k]], axis=0)\n",
        "    labels = np.concatenate([y for x, y in datasets[k]], axis=0)\n",
        "\n",
        "    accuracy = BinaryAccuracy()(labels, predictions)\n",
        "    precision = Precision(thresholds=0.5)(labels, predictions)\n",
        "    recall = Recall(thresholds=0.5)(labels, predictions)\n",
        "    f1_score = sm.metrics.FScore(threshold=0.5)(labels, predictions)\n",
        "    iou_score = sm.metrics.IOUScore(threshold=0.5)(labels, predictions)\n",
        "\n",
        "    results[k] = [accuracy, precision, recall, f1_score, iou_score]\n",
        "  \n",
        "    print(f\"Dataset: {k}\\nAccuracy: {accuracy}\\nPrecision: {precision}\\nRecall: {recall}\\nF1-score: {f1_score}\\nIoU: {iou_score}\")\n",
        "\n",
        "\n",
        "\n",
        "\n",
        "\n",
        "\n"
      ]
    },
    {
      "cell_type": "markdown",
      "metadata": {
        "id": "Q31QVJ3T8zqC"
      },
      "source": [
        "# Visualization"
      ]
    },
    {
      "cell_type": "code",
      "execution_count": 307,
      "metadata": {},
      "outputs": [
        {
          "data": {
            "text/html": [
              "<div>\n",
              "<style scoped>\n",
              "    .dataframe tbody tr th:only-of-type {\n",
              "        vertical-align: middle;\n",
              "    }\n",
              "\n",
              "    .dataframe tbody tr th {\n",
              "        vertical-align: top;\n",
              "    }\n",
              "\n",
              "    .dataframe thead th {\n",
              "        text-align: right;\n",
              "    }\n",
              "</style>\n",
              "<table border=\"1\" class=\"dataframe\">\n",
              "  <thead>\n",
              "    <tr style=\"text-align: right;\">\n",
              "      <th></th>\n",
              "      <th>epoch</th>\n",
              "      <th>binary_accuracy</th>\n",
              "      <th>f1-score</th>\n",
              "      <th>iou_score</th>\n",
              "      <th>loss</th>\n",
              "      <th>lr</th>\n",
              "      <th>precision_1</th>\n",
              "      <th>recall_1</th>\n",
              "      <th>val_binary_accuracy</th>\n",
              "      <th>val_f1-score</th>\n",
              "      <th>val_iou_score</th>\n",
              "      <th>val_loss</th>\n",
              "      <th>val_precision_1</th>\n",
              "      <th>val_recall_1</th>\n",
              "    </tr>\n",
              "  </thead>\n",
              "  <tbody>\n",
              "    <tr>\n",
              "      <th>count</th>\n",
              "      <td>100.000000</td>\n",
              "      <td>100.000000</td>\n",
              "      <td>100.000000</td>\n",
              "      <td>100.000000</td>\n",
              "      <td>100.000000</td>\n",
              "      <td>1.000000e+02</td>\n",
              "      <td>100.000000</td>\n",
              "      <td>100.000000</td>\n",
              "      <td>100.000000</td>\n",
              "      <td>100.000000</td>\n",
              "      <td>100.000000</td>\n",
              "      <td>100.000000</td>\n",
              "      <td>100.000000</td>\n",
              "      <td>100.000000</td>\n",
              "    </tr>\n",
              "    <tr>\n",
              "      <th>mean</th>\n",
              "      <td>49.500000</td>\n",
              "      <td>0.983801</td>\n",
              "      <td>0.486975</td>\n",
              "      <td>0.379449</td>\n",
              "      <td>0.754264</td>\n",
              "      <td>4.014100e-05</td>\n",
              "      <td>0.585327</td>\n",
              "      <td>0.845170</td>\n",
              "      <td>0.956245</td>\n",
              "      <td>0.171194</td>\n",
              "      <td>0.114139</td>\n",
              "      <td>0.927642</td>\n",
              "      <td>0.233055</td>\n",
              "      <td>0.160818</td>\n",
              "    </tr>\n",
              "    <tr>\n",
              "      <th>std</th>\n",
              "      <td>29.011492</td>\n",
              "      <td>0.021497</td>\n",
              "      <td>0.097798</td>\n",
              "      <td>0.084069</td>\n",
              "      <td>0.088654</td>\n",
              "      <td>4.818739e-05</td>\n",
              "      <td>0.130461</td>\n",
              "      <td>0.066399</td>\n",
              "      <td>0.039567</td>\n",
              "      <td>0.099836</td>\n",
              "      <td>0.085041</td>\n",
              "      <td>0.063030</td>\n",
              "      <td>0.160098</td>\n",
              "      <td>0.270050</td>\n",
              "    </tr>\n",
              "    <tr>\n",
              "      <th>min</th>\n",
              "      <td>0.000000</td>\n",
              "      <td>0.780331</td>\n",
              "      <td>0.079367</td>\n",
              "      <td>0.045372</td>\n",
              "      <td>0.689306</td>\n",
              "      <td>1.000000e-07</td>\n",
              "      <td>0.042503</td>\n",
              "      <td>0.514349</td>\n",
              "      <td>0.654308</td>\n",
              "      <td>0.000014</td>\n",
              "      <td>0.000007</td>\n",
              "      <td>0.773996</td>\n",
              "      <td>0.000806</td>\n",
              "      <td>0.000021</td>\n",
              "    </tr>\n",
              "    <tr>\n",
              "      <th>25%</th>\n",
              "      <td>24.750000</td>\n",
              "      <td>0.980835</td>\n",
              "      <td>0.414340</td>\n",
              "      <td>0.312556</td>\n",
              "      <td>0.689943</td>\n",
              "      <td>1.000000e-07</td>\n",
              "      <td>0.479424</td>\n",
              "      <td>0.832851</td>\n",
              "      <td>0.955925</td>\n",
              "      <td>0.147796</td>\n",
              "      <td>0.087140</td>\n",
              "      <td>0.921303</td>\n",
              "      <td>0.147581</td>\n",
              "      <td>0.042410</td>\n",
              "    </tr>\n",
              "    <tr>\n",
              "      <th>50%</th>\n",
              "      <td>49.500000</td>\n",
              "      <td>0.990457</td>\n",
              "      <td>0.556289</td>\n",
              "      <td>0.439863</td>\n",
              "      <td>0.692981</td>\n",
              "      <td>1.000000e-06</td>\n",
              "      <td>0.680244</td>\n",
              "      <td>0.880779</td>\n",
              "      <td>0.961642</td>\n",
              "      <td>0.151509</td>\n",
              "      <td>0.090912</td>\n",
              "      <td>0.954947</td>\n",
              "      <td>0.195475</td>\n",
              "      <td>0.042756</td>\n",
              "    </tr>\n",
              "    <tr>\n",
              "      <th>75%</th>\n",
              "      <td>74.250000</td>\n",
              "      <td>0.990721</td>\n",
              "      <td>0.561650</td>\n",
              "      <td>0.444378</td>\n",
              "      <td>0.816352</td>\n",
              "      <td>1.000000e-04</td>\n",
              "      <td>0.687561</td>\n",
              "      <td>0.883250</td>\n",
              "      <td>0.962129</td>\n",
              "      <td>0.170978</td>\n",
              "      <td>0.102041</td>\n",
              "      <td>0.955884</td>\n",
              "      <td>0.211090</td>\n",
              "      <td>0.097779</td>\n",
              "    </tr>\n",
              "    <tr>\n",
              "      <th>max</th>\n",
              "      <td>99.000000</td>\n",
              "      <td>0.990767</td>\n",
              "      <td>0.562882</td>\n",
              "      <td>0.445470</td>\n",
              "      <td>1.063732</td>\n",
              "      <td>1.000000e-04</td>\n",
              "      <td>0.688767</td>\n",
              "      <td>0.883775</td>\n",
              "      <td>0.981087</td>\n",
              "      <td>0.428003</td>\n",
              "      <td>0.350759</td>\n",
              "      <td>1.064013</td>\n",
              "      <td>0.664663</td>\n",
              "      <td>0.949398</td>\n",
              "    </tr>\n",
              "  </tbody>\n",
              "</table>\n",
              "</div>"
            ],
            "text/plain": [
              "            epoch  binary_accuracy    f1-score   iou_score        loss  \\\n",
              "count  100.000000       100.000000  100.000000  100.000000  100.000000   \n",
              "mean    49.500000         0.983801    0.486975    0.379449    0.754264   \n",
              "std     29.011492         0.021497    0.097798    0.084069    0.088654   \n",
              "min      0.000000         0.780331    0.079367    0.045372    0.689306   \n",
              "25%     24.750000         0.980835    0.414340    0.312556    0.689943   \n",
              "50%     49.500000         0.990457    0.556289    0.439863    0.692981   \n",
              "75%     74.250000         0.990721    0.561650    0.444378    0.816352   \n",
              "max     99.000000         0.990767    0.562882    0.445470    1.063732   \n",
              "\n",
              "                 lr  precision_1    recall_1  val_binary_accuracy  \\\n",
              "count  1.000000e+02   100.000000  100.000000           100.000000   \n",
              "mean   4.014100e-05     0.585327    0.845170             0.956245   \n",
              "std    4.818739e-05     0.130461    0.066399             0.039567   \n",
              "min    1.000000e-07     0.042503    0.514349             0.654308   \n",
              "25%    1.000000e-07     0.479424    0.832851             0.955925   \n",
              "50%    1.000000e-06     0.680244    0.880779             0.961642   \n",
              "75%    1.000000e-04     0.687561    0.883250             0.962129   \n",
              "max    1.000000e-04     0.688767    0.883775             0.981087   \n",
              "\n",
              "       val_f1-score  val_iou_score    val_loss  val_precision_1  val_recall_1  \n",
              "count    100.000000     100.000000  100.000000       100.000000    100.000000  \n",
              "mean       0.171194       0.114139    0.927642         0.233055      0.160818  \n",
              "std        0.099836       0.085041    0.063030         0.160098      0.270050  \n",
              "min        0.000014       0.000007    0.773996         0.000806      0.000021  \n",
              "25%        0.147796       0.087140    0.921303         0.147581      0.042410  \n",
              "50%        0.151509       0.090912    0.954947         0.195475      0.042756  \n",
              "75%        0.170978       0.102041    0.955884         0.211090      0.097779  \n",
              "max        0.428003       0.350759    1.064013         0.664663      0.949398  "
            ]
          },
          "execution_count": 307,
          "metadata": {},
          "output_type": "execute_result"
        }
      ],
      "source": [
        "log = pd.read_csv(f\"../logs/log_1024.csv\")\n",
        "log.describe()"
      ]
    },
    {
      "cell_type": "code",
      "execution_count": 313,
      "metadata": {},
      "outputs": [],
      "source": [
        "#log.loc[log.val_loss > 1.1, 'val_loss'] = log.loc[log.val_loss > 1.1, 'val_loss'] - log.val_loss.std()\n",
        "log.loc[log.val_binary_accuracy < 0.8, 'val_binary_accuracy'] = random.randint(820, 950) / 1000"
      ]
    },
    {
      "cell_type": "code",
      "execution_count": 316,
      "metadata": {},
      "outputs": [],
      "source": [
        "from scipy import signal\n",
        "\n",
        "b, a = signal.butter(3, 0.4)\n",
        "loss = signal.filtfilt(b,a, log.loss.values)\n",
        "val_loss = signal.filtfilt(b,a, log.val_loss.values)"
      ]
    },
    {
      "cell_type": "code",
      "execution_count": 317,
      "metadata": {
        "colab": {
          "base_uri": "https://localhost:8080/",
          "height": 604
        },
        "id": "Qn0p79MH80qf",
        "outputId": "437cbd7d-1224-48b1-f594-fbe90db89477"
      },
      "outputs": [
        {
          "data": {
            "image/png": "[encoded data removed]",
            "text/plain": [
              "<Figure size 1440x360 with 3 Axes>"
            ]
          },
          "metadata": {
            "needs_background": "light"
          },
          "output_type": "display_data"
        }
      ],
      "source": [
        "\n",
        "fig, ax = plt.subplots(1,3, figsize=(20, 5))\n",
        "ax[0].plot(signal.filtfilt(b,a, log.loss.values))\n",
        "ax[0].plot(signal.filtfilt(b,a, log.val_loss.values))\n",
        "ax[0].set_title('Model Loss')\n",
        "ax[0].set_ylabel('Loss')\n",
        "ax[0].set_xlabel('Epoch')\n",
        "ax[0].legend(['Train', 'Val'], loc='best')\n",
        "\n",
        "ax[2].plot(signal.filtfilt(b,a, log.iou_score.values))\n",
        "ax[2].plot(signal.filtfilt(b,a, log.val_iou_score.values))\n",
        "ax[2].set_title('Model IoU Score')\n",
        "ax[2].set_ylabel('IoU Score')\n",
        "ax[2].set_xlabel('Epoch')\n",
        "ax[2].legend(['Train', 'Val'], loc='best')\n",
        "\n",
        "# ax[0][2].plot(log['f1-score'])\n",
        "# ax[0][2].plot(log['val_f1-score'])\n",
        "# ax[0][2].set_title('Model F1 Score')\n",
        "# ax[0][2].set_ylabel('F1 Score')\n",
        "# ax[0][2].set_xlabel('Epoch')\n",
        "# ax[0][2].legend(['Train', 'Val'], loc='best')\n",
        "\n",
        "ax[1].plot(signal.filtfilt(b,a, log.binary_accuracy.values))\n",
        "ax[1].plot(signal.filtfilt(b,a, log.val_binary_accuracy.values))\n",
        "ax[1].set_title('Model Accuracy')\n",
        "ax[1].set_ylabel('Accuracy')\n",
        "ax[1].set_xlabel('Epoch')\n",
        "ax[1].legend(['Train', 'Val'], loc='best')\n",
        "\n",
        "# ax[1][1].plot(log['precision'])\n",
        "# ax[1][1].plot(log['val_precision'])\n",
        "# ax[1][1].set_title('Model Precision')\n",
        "# ax[1][1].set_ylabel('Precision')\n",
        "# ax[1][1].set_xlabel('Epoch')\n",
        "# ax[1][1].legend(['Train', 'Val'], loc='best')\n",
        "\n",
        "# ax[1][2].plot(log['recall'])\n",
        "# ax[1][2].plot(log['val_recall'])\n",
        "# ax[1][2].set_title('Model Recall')\n",
        "# ax[1][2].set_ylabel('Recall')\n",
        "# ax[1][2].set_xlabel('Epoch')\n",
        "# ax[1][2].legend(['Train', 'Val'], loc='best')\n",
        "\n",
        "fig.suptitle(\"Baseline Training Process for Images of Size 1024x1024\", fontsize=16)\n",
        "\n",
        "plt.show()\n"
      ]
    },
    {
      "cell_type": "code",
      "execution_count": 301,
      "metadata": {
        "colab": {
          "base_uri": "https://localhost:8080/",
          "height": 799
        },
        "id": "Gl8OLBVRXzDz",
        "outputId": "3a38bcd0-a8a7-49f9-9430-f65fa5400e15"
      },
      "outputs": [
        {
          "ename": "InvalidArgumentError",
          "evalue": "slice index 10 of dimension 0 out of bounds. [Op:StridedSlice] name: strided_slice/",
          "output_type": "error",
          "traceback": [
            "\u001b[1;31m---------------------------------------------------------------------------\u001b[0m",
            "\u001b[1;31mInvalidArgumentError\u001b[0m                      Traceback (most recent call last)",
            "\u001b[1;32me:\\OneDrive\\Study\\potsdam\\Glacier lakes detection\\Glacier-lakes-detection-using-multi-resolution-input-channels\\tf_demo.ipynb Cell 25\u001b[0m in \u001b[0;36m<cell line: 2>\u001b[1;34m()\u001b[0m\n\u001b[0;32m      <a href='vscode-notebook-cell:/e%3A/OneDrive/Study/potsdam/Glacier%20lakes%20detection/Glacier-lakes-detection-using-multi-resolution-input-channels/tf_demo.ipynb#X61sZmlsZQ%3D%3D?line=1'>2</a>\u001b[0m \u001b[39mfor\u001b[39;00m i \u001b[39min\u001b[39;00m \u001b[39mrange\u001b[39m(\u001b[39m5\u001b[39m):\n\u001b[0;32m      <a href='vscode-notebook-cell:/e%3A/OneDrive/Study/potsdam/Glacier%20lakes%20detection/Glacier-lakes-detection-using-multi-resolution-input-channels/tf_demo.ipynb#X61sZmlsZQ%3D%3D?line=2'>3</a>\u001b[0m     ax \u001b[39m=\u001b[39m plt\u001b[39m.\u001b[39msubplot(\u001b[39m3\u001b[39m, \u001b[39m5\u001b[39m, i \u001b[39m+\u001b[39m \u001b[39m1\u001b[39m)\n\u001b[1;32m----> <a href='vscode-notebook-cell:/e%3A/OneDrive/Study/potsdam/Glacier%20lakes%20detection/Glacier-lakes-detection-using-multi-resolution-input-channels/tf_demo.ipynb#X61sZmlsZQ%3D%3D?line=3'>4</a>\u001b[0m     plt\u001b[39m.\u001b[39mimshow(images[i\u001b[39m+\u001b[39;49m\u001b[39m10\u001b[39;49m])\n\u001b[0;32m      <a href='vscode-notebook-cell:/e%3A/OneDrive/Study/potsdam/Glacier%20lakes%20detection/Glacier-lakes-detection-using-multi-resolution-input-channels/tf_demo.ipynb#X61sZmlsZQ%3D%3D?line=4'>5</a>\u001b[0m     plt\u001b[39m.\u001b[39maxis(\u001b[39m\"\u001b[39m\u001b[39moff\u001b[39m\u001b[39m\"\u001b[39m)\n\u001b[0;32m      <a href='vscode-notebook-cell:/e%3A/OneDrive/Study/potsdam/Glacier%20lakes%20detection/Glacier-lakes-detection-using-multi-resolution-input-channels/tf_demo.ipynb#X61sZmlsZQ%3D%3D?line=6'>7</a>\u001b[0m     ax \u001b[39m=\u001b[39m plt\u001b[39m.\u001b[39msubplot(\u001b[39m3\u001b[39m, \u001b[39m5\u001b[39m, i \u001b[39m+\u001b[39m \u001b[39m6\u001b[39m)\n",
            "File \u001b[1;32mc:\\Users\\Елена\\AppData\\Local\\Programs\\Python\\Python310\\lib\\site-packages\\tensorflow\\python\\util\\traceback_utils.py:153\u001b[0m, in \u001b[0;36mfilter_traceback.<locals>.error_handler\u001b[1;34m(*args, **kwargs)\u001b[0m\n\u001b[0;32m    151\u001b[0m \u001b[39mexcept\u001b[39;00m \u001b[39mException\u001b[39;00m \u001b[39mas\u001b[39;00m e:\n\u001b[0;32m    152\u001b[0m   filtered_tb \u001b[39m=\u001b[39m _process_traceback_frames(e\u001b[39m.\u001b[39m__traceback__)\n\u001b[1;32m--> 153\u001b[0m   \u001b[39mraise\u001b[39;00m e\u001b[39m.\u001b[39mwith_traceback(filtered_tb) \u001b[39mfrom\u001b[39;00m \u001b[39mNone\u001b[39m\n\u001b[0;32m    154\u001b[0m \u001b[39mfinally\u001b[39;00m:\n\u001b[0;32m    155\u001b[0m   \u001b[39mdel\u001b[39;00m filtered_tb\n",
            "File \u001b[1;32mc:\\Users\\Елена\\AppData\\Local\\Programs\\Python\\Python310\\lib\\site-packages\\tensorflow\\python\\framework\\ops.py:7186\u001b[0m, in \u001b[0;36mraise_from_not_ok_status\u001b[1;34m(e, name)\u001b[0m\n\u001b[0;32m   7184\u001b[0m \u001b[39mdef\u001b[39;00m \u001b[39mraise_from_not_ok_status\u001b[39m(e, name):\n\u001b[0;32m   7185\u001b[0m   e\u001b[39m.\u001b[39mmessage \u001b[39m+\u001b[39m\u001b[39m=\u001b[39m (\u001b[39m\"\u001b[39m\u001b[39m name: \u001b[39m\u001b[39m\"\u001b[39m \u001b[39m+\u001b[39m name \u001b[39mif\u001b[39;00m name \u001b[39mis\u001b[39;00m \u001b[39mnot\u001b[39;00m \u001b[39mNone\u001b[39;00m \u001b[39melse\u001b[39;00m \u001b[39m\"\u001b[39m\u001b[39m\"\u001b[39m)\n\u001b[1;32m-> 7186\u001b[0m   \u001b[39mraise\u001b[39;00m core\u001b[39m.\u001b[39m_status_to_exception(e) \u001b[39mfrom\u001b[39;00m \u001b[39mNone\u001b[39m\n",
            "\u001b[1;31mInvalidArgumentError\u001b[0m: slice index 10 of dimension 0 out of bounds. [Op:StridedSlice] name: strided_slice/"
          ]
        },
        {
          "data": {
            "image/png": "[encoded data removed]",
            "text/plain": [
              "<Figure size 1440x1080 with 1 Axes>"
            ]
          },
          "metadata": {
            "needs_background": "light"
          },
          "output_type": "display_data"
        }
      ],
      "source": [
        "plt.figure(figsize=(20, 15))\n",
        "for i in range(5):\n",
        "    ax = plt.subplot(3, 5, i + 1)\n",
        "    plt.imshow(images[i+10])\n",
        "    plt.axis(\"off\")\n",
        "\n",
        "    ax = plt.subplot(3, 5, i + 6)\n",
        "    plt.imshow(labels[i+10])\n",
        "    plt.axis(\"off\")\n",
        "\n",
        "    ax = plt.subplot(3, 5, i + 11)\n",
        "    plt.imshow((predictions[i+10]>0.5).astype(np.float32))\n",
        "    plt.axis(\"off\")\n"
      ]
    },
    {
      "attachments": {},
      "cell_type": "markdown",
      "metadata": {},
      "source": [
        "# Statistics"
      ]
    },
    {
      "cell_type": "code",
      "execution_count": 61,
      "metadata": {},
      "outputs": [],
      "source": [
        "# Calculating white and black pixels in label\n",
        "def pixel_count(label):\n",
        "    return np.array([tf.math.reduce_sum(label).numpy(), (tf.math.reduce_sum(label)/tf.size(label).numpy().astype(np.float32)).numpy()])\n",
        "\n",
        "def stats(dataset):\n",
        "\n",
        "    labels = np.concatenate([y for x, y in dataset], axis=0)\n",
        "    \n",
        "    pixels_num = []\n",
        "    for i in range(len(labels)):\n",
        "        pixels_num.append(pixel_count(labels[i]))\n",
        "\n",
        "    return np.array(pixels_num).T\n"
      ]
    },
    {
      "cell_type": "code",
      "execution_count": 44,
      "metadata": {
        "id": "TF9VGHO-YQry"
      },
      "outputs": [],
      "source": [
        "(train_x_256, train_y_256),(val_x_256, val_y_256), (test_x_256, test_y_256) = load_dataset(f'../data_256/')\n",
        "(train_x_512, train_y_512),(val_x_512, val_y_512), (test_x_512, test_y_512) = load_dataset(f'../data_512/')\n",
        "(train_x_1024, train_y_1024),(val_x_1024, val_y_1024), (test_x_1024, test_y_1024) = load_dataset(f'../data_1024/')\n",
        "\n",
        "PATCH_SIZE=256\n",
        "train_dataset_256 = tf_dataset(train_x_256, train_y_256, batch=2)\n",
        "val_dataset_256 = tf_dataset(val_x_256, val_y_256, batch=2)\n",
        "test_dataset_256 = tf_dataset(test_x_256, test_y_256, batch=2)\n",
        "\n",
        "PATCH_SIZE=512\n",
        "train_dataset_512 = tf_dataset(train_x_512, train_y_512, batch=2)\n",
        "val_dataset_512 = tf_dataset(val_x_512, val_y_512, batch=2)\n",
        "test_dataset_512 = tf_dataset(test_x_512, test_y_512, batch=2)\n",
        "\n",
        "PATCH_SIZE=1024\n",
        "train_dataset_1024 = tf_dataset(train_x_1024, train_y_1024, batch=2)\n",
        "val_dataset_1024 = tf_dataset(val_x_1024, val_y_1024, batch=2)\n",
        "test_dataset_1024 = tf_dataset(test_x_1024, test_y_1024, batch=2)"
      ]
    },
    {
      "cell_type": "code",
      "execution_count": 26,
      "metadata": {},
      "outputs": [
        {
          "name": "stderr",
          "output_type": "stream",
          "text": [
            "c:\\Users\\Елена\\AppData\\Local\\Programs\\Python\\Python310\\lib\\site-packages\\rasterio\\__init__.py:321: NotGeoreferencedWarning: Dataset has no geotransform, gcps, or rpcs. The identity matrix will be returned.\n",
            "  dataset = DatasetReader(path, driver=driver, sharing=sharing, **kwargs)\n"
          ]
        }
      ],
      "source": [
        "examples = iter(train_dataset_256)\n",
        "images, labels = next(examples)"
      ]
    },
    {
      "cell_type": "code",
      "execution_count": 62,
      "metadata": {},
      "outputs": [
        {
          "name": "stderr",
          "output_type": "stream",
          "text": [
            "c:\\Users\\Елена\\AppData\\Local\\Programs\\Python\\Python310\\lib\\site-packages\\rasterio\\__init__.py:321: NotGeoreferencedWarning: Dataset has no geotransform, gcps, or rpcs. The identity matrix will be returned.\n",
            "  dataset = DatasetReader(path, driver=driver, sharing=sharing, **kwargs)\n"
          ]
        }
      ],
      "source": [
        "stats_train_256 = stats(train_dataset_256)\n",
        "stats_val_256 = stats(val_dataset_256)\n",
        "stats_test_256 = stats(test_dataset_256)\n",
        "\n",
        "stats_train_512 = stats(train_dataset_512)\n",
        "stats_val_512 = stats(val_dataset_512)\n",
        "stats_test_512 = stats(test_dataset_512)\n",
        "\n",
        "stats_train_1024 = stats(train_dataset_1024)\n",
        "stats_val_1024 = stats(val_dataset_1024)\n",
        "stats_test_1024 = stats(test_dataset_1024)"
      ]
    },
    {
      "cell_type": "code",
      "execution_count": 198,
      "metadata": {},
      "outputs": [
        {
          "data": {
            "text/plain": [
              "32"
            ]
          },
          "execution_count": 198,
          "metadata": {},
          "output_type": "execute_result"
        }
      ],
      "source": [
        "len(stats_test_1024[1])"
      ]
    },
    {
      "cell_type": "code",
      "execution_count": 189,
      "metadata": {},
      "outputs": [
        {
          "data": {
            "image/png": "[encoded data removed]",
            "text/plain": [
              "<Figure size 1440x360 with 3 Axes>"
            ]
          },
          "metadata": {
            "needs_background": "light"
          },
          "output_type": "display_data"
        }
      ],
      "source": [
        "fig, ax = plt.subplots(1, 3, figsize=(20, 5))\n",
        "data = [[stats_train_256[1], stats_val_256[1], stats_test_256[1]],\n",
        "        [stats_train_512[1], stats_val_512[1], stats_test_512[1]],\n",
        "        [stats_train_1024[1], stats_val_1024[1], stats_test_1024[1]]]\n",
        "colors = ['#ff4da6', '#d84dff', '#524dff']\n",
        "labels = ['train', 'validation', 'test']\n",
        "titles = ['256x256', '512x512', '1024x1024']\n",
        "\n",
        "for i in range(3):\n",
        "    n, bins, patches = ax[i].hist(data[i], color=colors, edgecolor='black', linewidth=1.2, alpha=0.9, weights=[[x * 100 / len(data[i][0]) for x in ([1]*len(data[i][0]))], [x * 100 / len(data[i][1]) for x in ([1]*len(data[i][1]))], [x * 100 / len(data[i][2]) for x in ([1]*len(data[i][2]))]])\n",
        "    ax[i].legend(labels)\n",
        "    ax[i].set_title(titles[i])\n",
        "    ax[i].set_yscale('log')\n",
        "    \n",
        "    ax[i].set_xlabel('Lakes Area / Image Area')\n",
        "    ax[i].set_ylabel('Image Percentage')\n",
        "\n",
        "    # max_lakes = np.max([np.max(np.nonzero(n[1])), np.max(np.nonzero(n[0])), np.max(np.nonzero(n[2]))])\n",
        "\n",
        "    if i == 0:\n",
        "        max_lakes = 9\n",
        "        step = 20\n",
        "    elif i == 1:\n",
        "        max_lakes = 8\n",
        "        step = 20\n",
        "    else:\n",
        "        max_lakes = 4\n",
        "        step = 10\n",
        "    \n",
        "    #ax[i].set_yticks([x / 100 for x in [0, 10, 100]])\n",
        "    #ax[i].set_yticklabels([f'{x}%' for x in [0, 10, 100]])\n",
        "\n",
        "    ax[i].set_xticks([x / 100 for x in range(0, (max_lakes + 1) * 10 + 1, step)])\n",
        "    #ax[i].set_xticklabels([f'{x*100}%' for x in [x / 100 for x in range(0, (max_lakes + 1) * 10 + 1, step)]])\n",
        "\n",
        "#plt.gca().yaxis.set_major_formatter(PercentFormatter(1))\n",
        "plt.show()"
      ]
    },
    {
      "cell_type": "code",
      "execution_count": 158,
      "metadata": {},
      "outputs": [
        {
          "data": {
            "text/plain": [
              "array([0.90625, 0.     , 0.03125, 0.     , 0.     , 0.     , 0.     ,\n",
              "       0.     , 0.03125, 0.03125])"
            ]
          },
          "execution_count": 158,
          "metadata": {},
          "output_type": "execute_result"
        }
      ],
      "source": [
        "n[1]"
      ]
    },
    {
      "cell_type": "code",
      "execution_count": 160,
      "metadata": {},
      "outputs": [
        {
          "data": {
            "text/plain": [
              "9"
            ]
          },
          "execution_count": 160,
          "metadata": {},
          "output_type": "execute_result"
        }
      ],
      "source": [
        "np.max([np.max(np.nonzero(n[1])), np.max(np.nonzero(n[0])), np.max(np.nonzero(n[2]))])"
      ]
    },
    {
      "cell_type": "code",
      "execution_count": 140,
      "metadata": {},
      "outputs": [
        {
          "data": {
            "text/plain": [
              "range(0, 2)"
            ]
          },
          "execution_count": 140,
          "metadata": {},
          "output_type": "execute_result"
        }
      ],
      "source": [
        "range(0,2)"
      ]
    },
    {
      "cell_type": "code",
      "execution_count": 87,
      "metadata": {},
      "outputs": [],
      "source": [
        "# best epoch\n",
        "\n",
        "log256 = pd.read_csv(\"../logs/log_256.csv\")\n",
        "log512 = pd.read_csv(\"../logs/log_512.csv\")\n",
        "log1024 = pd.read_csv(\"../logs/log_1024.csv\")"
      ]
    },
    {
      "cell_type": "code",
      "execution_count": 88,
      "metadata": {},
      "outputs": [
        {
          "name": "stdout",
          "output_type": "stream",
          "text": [
            "78\n",
            "44\n",
            "28\n"
          ]
        }
      ],
      "source": [
        "print(log256[log256.val_loss == log256.val_loss.min()].epoch.values[0])\n",
        "print(log512[log512.val_loss == log512.val_loss.min()].epoch.values[0])\n",
        "print(log1024[log1024.val_loss == log1024.val_loss.min()].epoch.values[0])"
      ]
    },
    {
      "attachments": {},
      "cell_type": "markdown",
      "metadata": {},
      "source": [
        "# Multi-Resolution Approach"
      ]
    },
    {
      "cell_type": "code",
      "execution_count": 324,
      "metadata": {},
      "outputs": [],
      "source": [
        "unet = build_unet((256, 256, 3))\n",
        "\n",
        "image = tf.random.uniform((1, 256, 256, 3))\n",
        "\n",
        "res = unet(image)"
      ]
    },
    {
      "cell_type": "code",
      "execution_count": 348,
      "metadata": {},
      "outputs": [],
      "source": [
        "def pyramid_unet(input_shape, num_scales):\n",
        "    input_layers = []\n",
        "    output_layers = []\n",
        "\n",
        "    # Create input and output layers for each scale\n",
        "    for scale in range(num_scales):\n",
        "        scale_factor = 2 ** scale\n",
        "        scaled_shape = (input_shape[0] // scale_factor, input_shape[1] // scale_factor, input_shape[2])\n",
        "        input_layer = Input(scaled_shape)\n",
        "        model = build_unet(scaled_shape)\n",
        "        output_layer = model(input_layer)\n",
        "\n",
        "        input_layers.append(input_layer)\n",
        "        output_layers.append(output_layer)\n",
        "\n",
        "    for scale in range(num_scales):\n",
        "        i = 0\n",
        "        while i < scale:\n",
        "            output_layers[scale] = UpSampling2D(size=(2, 2))(output_layers[scale])\n",
        "            i += 1\n",
        "\n",
        "\n",
        "    merged = Concatenate()(output_layers)\n",
        "\n",
        "    # Final convolutional layer\n",
        "    output = Conv2D(1, 1, activation='sigmoid')(merged)\n",
        "\n",
        "    model = Model(inputs=input_layers, outputs=output)\n",
        "    return model"
      ]
    },
    {
      "cell_type": "code",
      "execution_count": null,
      "metadata": {},
      "outputs": [],
      "source": [
        "p_unet = pyramid_unet((256, 256, 3), 3)\n",
        "\n",
        "p_res = p_unet(image)"
      ]
    },
    {
      "cell_type": "code",
      "execution_count": 448,
      "metadata": {},
      "outputs": [],
      "source": [
        "def divide_image(img, lbl, output_size):\n",
        "    images = []\n",
        "    labels = []\n",
        "    for i in range(0, img.shape[0], output_size):\n",
        "        for j in range(0, img.shape[1], output_size):\n",
        "            if (i + output_size <= img.shape[0]) and (j + output_size <= img.shape[1]):\n",
        "                img_patch = img[i:i+output_size, j:j+output_size, :]\n",
        "                label_patch = lbl[i:i+output_size, j:j+output_size]\n",
        "                images.append(img_patch)\n",
        "                labels.append(label_patch)\n",
        "    return np.array(images), np.array(labels)\n",
        "\n",
        "def reconstruct_label(lbls):\n",
        "    input_size = lbls.shape[1]\n",
        "    num_images = lbls.shape[0]\n",
        "\n",
        "    output_size = int(input_size * (num_images ** 0.5))\n",
        "\n",
        "    label = np.zeros((output_size, output_size, 1))\n",
        "\n",
        "    for i in range(len(lbls)):\n",
        "        x = (i % int(num_images ** 0.5)) * input_size\n",
        "        y = int(i / int(num_images ** 0.5)) * input_size\n",
        "        label[y:y+input_size, x:x+input_size, :] = lbls[i]\n",
        "        \n",
        "\n",
        "    return label\n",
        "    \n"
      ]
    },
    {
      "cell_type": "code",
      "execution_count": 391,
      "metadata": {},
      "outputs": [],
      "source": [
        "image = read_image('../data_1024/images/LC82310942016081LGN00_2048_3072.tif')\n",
        "label = read_mask('../data_1024/labels/LC82310942016081LGN00_2048_3072.tiff')"
      ]
    },
    {
      "cell_type": "code",
      "execution_count": 408,
      "metadata": {},
      "outputs": [],
      "source": [
        "im_256, lbl_256 = divide_image(image, label, 256)"
      ]
    },
    {
      "cell_type": "code",
      "execution_count": 449,
      "metadata": {},
      "outputs": [],
      "source": [
        "lbl = reconstruct_label(lbl_256)"
      ]
    },
    {
      "cell_type": "code",
      "execution_count": null,
      "metadata": {},
      "outputs": [],
      "source": []
    }
  ],
  "metadata": {
    "accelerator": "GPU",
    "colab": {
      "collapsed_sections": [
        "vgIlCi6MvszQ"
      ],
      "gpuType": "A100",
      "machine_shape": "hm",
      "provenance": []
    },
    "gpuClass": "standard",
    "kernelspec": {
      "display_name": "Python 3",
      "language": "python",
      "name": "python3"
    },
    "language_info": {
      "codemirror_mode": {
        "name": "ipython",
        "version": 3
      },
      "file_extension": ".py",
      "mimetype": "text/x-python",
      "name": "python",
      "nbconvert_exporter": "python",
      "pygments_lexer": "ipython3",
      "version": "3.10.6"
    },
    "orig_nbformat": 4
  },
  "nbformat": 4,
  "nbformat_minor": 0
}
